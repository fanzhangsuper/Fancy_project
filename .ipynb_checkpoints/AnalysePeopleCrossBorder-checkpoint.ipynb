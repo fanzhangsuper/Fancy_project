{
 "cells": [
  {
   "cell_type": "markdown",
   "metadata": {},
   "source": [
    "In this ipython notebook, we will load data from other ipython notebook and process them so that we know\n",
    "\n",
    "1. how many people cross border everyday?\n",
    "2. what are their destinations and home?\n",
    "3. conver data to formats for plotings like time series and sankey graph."
   ]
  },
  {
   "cell_type": "code",
   "execution_count": 2,
   "metadata": {
    "collapsed": false
   },
   "outputs": [
    {
     "name": "stdout",
     "output_type": "stream",
     "text": [
      "The autoreload extension is already loaded. To reload it, use:\n",
      "  %reload_ext autoreload\n"
     ]
    }
   ],
   "source": [
    "import pandas as pd\n",
    "import csv\n",
    "import numpy as np\n",
    "from scripts.geocoding import *\n",
    "from scripts.preprocessing import *\n",
    "import pickle\n",
    "import time\n",
    "%load_ext autoreload\n",
    "%autoreload 2"
   ]
  },
  {
   "cell_type": "code",
   "execution_count": 9,
   "metadata": {
    "collapsed": true
   },
   "outputs": [],
   "source": [
    "with open('data/twitter-swisscom/user_info_total.pickle', 'rb') as f:\n",
    "    uId_x_followers_friends = pickle.load(f)\n",
    "    \n",
    "with open('data/twitter-swisscom/geo_info_total.pickle', 'rb') as f:\n",
    "    pId_x_lat_lng = pickle.load(f)\n",
    "    \n",
    "with open('data/twitter-swisscom/pId_geo_df_total.pickle', 'rb') as f:\n",
    "    pId_x_geo = pickle.load(f)"
   ]
  },
  {
   "cell_type": "code",
   "execution_count": 18,
   "metadata": {
    "collapsed": true
   },
   "outputs": [],
   "source": [
    "with open('data/twitter-swisscom/create_twitter_total.pickle', 'rb') as f:\n",
    "    total_df = pickle.load(f)"
   ]
  },
  {
   "cell_type": "code",
   "execution_count": 174,
   "metadata": {
    "collapsed": true
   },
   "outputs": [],
   "source": [
    "total_df.reset_index(inplace=True)"
   ]
  },
  {
   "cell_type": "code",
   "execution_count": 176,
   "metadata": {
    "collapsed": false
   },
   "outputs": [],
   "source": [
    "df_sample = total_df[:5000].copy()"
   ]
  },
  {
   "cell_type": "code",
   "execution_count": 25,
   "metadata": {
    "collapsed": true
   },
   "outputs": [],
   "source": [
    "# Example\n",
    "from itertools import groupby\n",
    "\n",
    "def remove_consecutive_in_list(l):\n",
    "    return [x[0] for x in groupby(l)]\n",
    "\n",
    "def unique_index_consecutive_in_list(l):\n",
    "    return [x[0] for x in groupby(l)]"
   ]
  },
  {
   "cell_type": "code",
   "execution_count": 234,
   "metadata": {
    "collapsed": false
   },
   "outputs": [],
   "source": [
    "# Convert pytime to time\n",
    "df_sample['time'] = df_sample['createdAt'].apply(lambda x: pd.Timestamp(x).to_pydatetime())"
   ]
  },
  {
   "cell_type": "code",
   "execution_count": 238,
   "metadata": {
    "collapsed": false
   },
   "outputs": [],
   "source": [
    "c =total_df.iloc[0]"
   ]
  },
  {
   "cell_type": "code",
   "execution_count": 241,
   "metadata": {
    "collapsed": false
   },
   "outputs": [
    {
     "name": "stdout",
     "output_type": "stream",
     "text": [
      "time =  582.1858599185944\n"
     ]
    }
   ],
   "source": [
    "t = time.time()\n",
    "total_df['time_id'] = total_df.apply(lambda x: str(x['createdAt'])[:10], axis=1)\n",
    "print(\"time = \", time.time() - t)"
   ]
  },
  {
   "cell_type": "code",
   "execution_count": 245,
   "metadata": {
    "collapsed": false
   },
   "outputs": [
    {
     "data": {
      "text/html": [
       "<div>\n",
       "<table border=\"1\" class=\"dataframe\">\n",
       "  <thead>\n",
       "    <tr style=\"text-align: right;\">\n",
       "      <th>1</th>\n",
       "      <th>index</th>\n",
       "      <th>userId</th>\n",
       "      <th>createdAt</th>\n",
       "      <th>placeId</th>\n",
       "      <th>weekday</th>\n",
       "      <th>day</th>\n",
       "      <th>hour</th>\n",
       "      <th>month</th>\n",
       "      <th>time_id</th>\n",
       "    </tr>\n",
       "  </thead>\n",
       "  <tbody>\n",
       "    <tr>\n",
       "      <th>0</th>\n",
       "      <td>0</td>\n",
       "      <td>30445147</td>\n",
       "      <td>2013-04-24 01:42:07</td>\n",
       "      <td>508f024bc856afc5</td>\n",
       "      <td>2</td>\n",
       "      <td>24</td>\n",
       "      <td>1</td>\n",
       "      <td>4</td>\n",
       "      <td>2013-04-24</td>\n",
       "    </tr>\n",
       "    <tr>\n",
       "      <th>1</th>\n",
       "      <td>1</td>\n",
       "      <td>1136150214</td>\n",
       "      <td>2013-04-24 01:42:39</td>\n",
       "      <td>d969dab4efecff93</td>\n",
       "      <td>2</td>\n",
       "      <td>24</td>\n",
       "      <td>1</td>\n",
       "      <td>4</td>\n",
       "      <td>2013-04-24</td>\n",
       "    </tr>\n",
       "    <tr>\n",
       "      <th>2</th>\n",
       "      <td>2</td>\n",
       "      <td>853308949</td>\n",
       "      <td>2013-04-24 01:42:44</td>\n",
       "      <td>a573c842499b9471</td>\n",
       "      <td>2</td>\n",
       "      <td>24</td>\n",
       "      <td>1</td>\n",
       "      <td>4</td>\n",
       "      <td>2013-04-24</td>\n",
       "    </tr>\n",
       "    <tr>\n",
       "      <th>3</th>\n",
       "      <td>3</td>\n",
       "      <td>1136150214</td>\n",
       "      <td>2013-04-24 01:43:01</td>\n",
       "      <td>d969dab4efecff93</td>\n",
       "      <td>2</td>\n",
       "      <td>24</td>\n",
       "      <td>1</td>\n",
       "      <td>4</td>\n",
       "      <td>2013-04-24</td>\n",
       "    </tr>\n",
       "    <tr>\n",
       "      <th>4</th>\n",
       "      <td>4</td>\n",
       "      <td>1136150214</td>\n",
       "      <td>2013-04-24 01:44:13</td>\n",
       "      <td>d969dab4efecff93</td>\n",
       "      <td>2</td>\n",
       "      <td>24</td>\n",
       "      <td>1</td>\n",
       "      <td>4</td>\n",
       "      <td>2013-04-24</td>\n",
       "    </tr>\n",
       "  </tbody>\n",
       "</table>\n",
       "</div>"
      ],
      "text/plain": [
       "1  index      userId            createdAt           placeId  weekday  day  \\\n",
       "0      0    30445147  2013-04-24 01:42:07  508f024bc856afc5        2   24   \n",
       "1      1  1136150214  2013-04-24 01:42:39  d969dab4efecff93        2   24   \n",
       "2      2   853308949  2013-04-24 01:42:44  a573c842499b9471        2   24   \n",
       "3      3  1136150214  2013-04-24 01:43:01  d969dab4efecff93        2   24   \n",
       "4      4  1136150214  2013-04-24 01:44:13  d969dab4efecff93        2   24   \n",
       "\n",
       "1  hour  month     time_id  \n",
       "0     1      4  2013-04-24  \n",
       "1     1      4  2013-04-24  \n",
       "2     1      4  2013-04-24  \n",
       "3     1      4  2013-04-24  \n",
       "4     1      4  2013-04-24  "
      ]
     },
     "execution_count": 245,
     "metadata": {},
     "output_type": "execute_result"
    }
   ],
   "source": [
    "total_df.head()"
   ]
  },
  {
   "cell_type": "code",
   "execution_count": 246,
   "metadata": {
    "collapsed": true
   },
   "outputs": [],
   "source": [
    "total_df_m    = total_df[['userId', 'placeId', 'time_id']]\n",
    "gp_total_df_m = total_df_m.groupby(['time_id', 'userId'])"
   ]
  },
  {
   "cell_type": "code",
   "execution_count": 248,
   "metadata": {
    "collapsed": false
   },
   "outputs": [],
   "source": [
    "# make a dataframe of (date, user) as index, (placeId, time) as column\n",
    "# remove all the twitters whose locations are the same to the previous one.\n",
    "timeId_userId_x_placeId_total_df = gp_total_df_m.aggregate(lambda x: tuple(x.loc[x.shift() != x]))"
   ]
  },
  {
   "cell_type": "markdown",
   "metadata": {},
   "source": [
    "### Consider people who have at least two locations in a day"
   ]
  },
  {
   "cell_type": "markdown",
   "metadata": {},
   "source": [
    "For this part, we reduce the dataset to people who have moved in a day.\n",
    "Further, we will pay special interest to people who have crossed the border."
   ]
  },
  {
   "cell_type": "code",
   "execution_count": 252,
   "metadata": {
    "collapsed": true
   },
   "outputs": [],
   "source": [
    "people_movement_total_df = timeId_userId_x_placeId_total_df[timeId_userId_x_placeId_total_df.apply(\n",
    "        lambda x: len(x['placeId']) > 1, axis=1)].copy()"
   ]
  },
  {
   "cell_type": "code",
   "execution_count": 279,
   "metadata": {
    "collapsed": false
   },
   "outputs": [],
   "source": [
    "missing_data = [l for l in pId_x_lat_lng.placeId if l not in pId_x_geo.index]"
   ]
  },
  {
   "cell_type": "code",
   "execution_count": 315,
   "metadata": {
    "collapsed": true
   },
   "outputs": [],
   "source": [
    "def placeId_to_country(pId_df, pId):\n",
    "    if pId in pId_df.index:\n",
    "        return pId_df.loc[pId]['country_code']\n",
    "    else:\n",
    "        return 'ignore'\n",
    "    \n",
    "def placeId_to_state(pId_df, pId):\n",
    "    if pId in pId_df.index:\n",
    "        return pId_df.loc[pId]['state']\n",
    "    else:\n",
    "        return 'ignore'"
   ]
  },
  {
   "cell_type": "code",
   "execution_count": 304,
   "metadata": {
    "collapsed": false
   },
   "outputs": [],
   "source": [
    "# Be careful that there are 'ignored' countries in this dataframe\n",
    "people_movement_total_df['country_list'] = people_movement_total_df['placeId'].apply(\n",
    "    lambda x: [placeId_to_country(pId_x_geo, i) for i in x])"
   ]
  },
  {
   "cell_type": "code",
   "execution_count": 316,
   "metadata": {
    "collapsed": false
   },
   "outputs": [],
   "source": [
    "# Be careful that there are 'ignored' countries in this dataframe\n",
    "people_movement_total_df['state_list'] = people_movement_total_df['placeId'].apply(\n",
    "    lambda x: [placeId_to_state(pId_x_geo, i) for i in x])"
   ]
  },
  {
   "cell_type": "markdown",
   "metadata": {},
   "source": [
    "Select people who has crossed country border in a day"
   ]
  },
  {
   "cell_type": "code",
   "execution_count": 321,
   "metadata": {
    "collapsed": false
   },
   "outputs": [],
   "source": [
    "people_across_country_total_df = people_movement_total_df[\n",
    "    people_movement_total_df.apply(lambda x: len(set(x['country_list'])) > 1, axis=1)].copy()"
   ]
  },
  {
   "cell_type": "code",
   "execution_count": 326,
   "metadata": {
    "collapsed": true
   },
   "outputs": [],
   "source": [
    "people_across_country_total_df['country_list'] = people_across_country_total_df['country_list'].apply(\n",
    "    lambda x: remove_consecutive_in_list(x))"
   ]
  },
  {
   "cell_type": "code",
   "execution_count": 498,
   "metadata": {
    "collapsed": false
   },
   "outputs": [],
   "source": [
    "def date():\n",
    "    def foo():\n",
    "        c1 = collections.defaultdict(int)\n",
    "        c2 = collections.defaultdict(int)\n",
    "        return {'from_ch': c1, 'to_ch':c2}\n",
    "    return collections.defaultdict(foo)"
   ]
  },
  {
   "cell_type": "code",
   "execution_count": 499,
   "metadata": {
    "collapsed": true
   },
   "outputs": [],
   "source": [
    "cross_country_with_time = date()\n",
    "\n",
    "def add_adj_country(l, date):\n",
    "    for i in range(len(l)-1):\n",
    "        if none_to_ignore(l[i]) == 'ch':\n",
    "            cross_country_with_time[date]['from_ch'][none_to_ignore(l[i+1])] += 1\n",
    "        elif none_to_ignore(l[i+1]) == 'ch':\n",
    "            cross_country_with_time[date]['to_ch'][none_to_ignore(l[i])] += 1"
   ]
  },
  {
   "cell_type": "code",
   "execution_count": 500,
   "metadata": {
    "collapsed": true
   },
   "outputs": [],
   "source": [
    "for time_idx  in people_across_country_total_df.index:\n",
    "    add_adj_country(people_across_country_total_df.loc[time_idx]['country_list'], time_idx[0])"
   ]
  },
  {
   "cell_type": "code",
   "execution_count": 501,
   "metadata": {
    "collapsed": false
   },
   "outputs": [],
   "source": [
    "import json\n",
    "with open(\"data/twitter-swisscom/time_country_dictionary.json\", \"w\") as h:\n",
    "    json.dump(cross_country_with_time, h)"
   ]
  },
  {
   "cell_type": "code",
   "execution_count": 507,
   "metadata": {
    "collapsed": false
   },
   "outputs": [],
   "source": [
    "fr = [cross_country_with_time[i]['to_ch']['fr'] for i in cross_country_with_time.keys()]"
   ]
  },
  {
   "cell_type": "code",
   "execution_count": 509,
   "metadata": {
    "collapsed": true
   },
   "outputs": [],
   "source": [
    "import matplotlib.pylab as plt\n",
    "%matplotlib inline"
   ]
  },
  {
   "cell_type": "code",
   "execution_count": 528,
   "metadata": {
    "collapsed": false
   },
   "outputs": [
    {
     "data": {
      "text/plain": [
       "defaultdict(int, {'at': 207, 'de': 790, 'fr': 1053, 'ignore': 10, 'it': 633})"
      ]
     },
     "execution_count": 528,
     "metadata": {},
     "output_type": "execute_result"
    }
   ],
   "source": [
    "cross_country_with_time['2014-01-02']['from_ch']"
   ]
  },
  {
   "cell_type": "code",
   "execution_count": 525,
   "metadata": {
    "collapsed": false
   },
   "outputs": [
    {
     "data": {
      "text/plain": [
       "defaultdict(int, {'at': 228, 'de': 844, 'fr': 1072, 'ignore': 5, 'it': 652})"
      ]
     },
     "execution_count": 525,
     "metadata": {},
     "output_type": "execute_result"
    }
   ],
   "source": [
    "cross_country_with_time['2014-01-02']['to_ch']"
   ]
  },
  {
   "cell_type": "markdown",
   "metadata": {},
   "source": [
    "2013-12-08 Immaculate Conception day\n",
    "\n",
    "2014-01-02 Berchtoldstag day"
   ]
  },
  {
   "cell_type": "code",
   "execution_count": 531,
   "metadata": {
    "collapsed": false
   },
   "outputs": [
    {
     "data": {
      "image/png": "[encoded data removed]",
      "text/plain": [
       "<matplotlib.figure.Figure at 0x1f8afa080>"
      ]
     },
     "metadata": {},
     "output_type": "display_data"
    }
   ],
   "source": [
    "plt.plot(fr)\n",
    "plt.show()"
   ]
  },
  {
   "cell_type": "code",
   "execution_count": 537,
   "metadata": {
    "collapsed": false
   },
   "outputs": [
    {
     "data": {
      "text/plain": [
       "defaultdict(int, {'at': 228, 'de': 844, 'fr': 1072, 'ignore': 5, 'it': 652})"
      ]
     },
     "execution_count": 537,
     "metadata": {},
     "output_type": "execute_result"
    }
   ],
   "source": [
    "cross_country_with_time['2014-01-02']['to_ch']"
   ]
  },
  {
   "cell_type": "markdown",
   "metadata": {},
   "source": [
    "### To sankey graph\n",
    "\n",
    "Transform data to fit into sankey graph's requirement"
   ]
  },
  {
   "cell_type": "code",
   "execution_count": 621,
   "metadata": {
    "collapsed": true
   },
   "outputs": [],
   "source": [
    "def to_sanky_node_link_list(to_ch, from_ch):\n",
    "    all_countries = list(from_ch.keys())\n",
    "    all_countries.extend(list(to_ch.keys()))\n",
    "    all_countries = np.unique(all_countries)\n",
    "    all_countries = all_countries[all_countries != 'ignore']\n",
    "    \n",
    "    node_list = [{\"name\":'ch'}]\n",
    "    node_list.extend([{\"name\": i} for i in all_countries])\n",
    "    index = {name: i + 1 for i, name in enumerate(all_countries)}\n",
    "    node_list.extend([{\"name\":'ch'}])\n",
    "    \n",
    "    link_list = []\n",
    "    l = from_ch\n",
    "    for i in l.keys():\n",
    "        if i != 'ignore':\n",
    "            link_list.append({\"source\":0, \"target\":index[i], \"value\":l[i]})\n",
    "\n",
    "    l = to_ch\n",
    "    for i in l.keys():\n",
    "        if i != 'ignore':\n",
    "            link_list.append({\"source\":index[i], \"target\":len(node_list)-1, \"value\":l[i]})  \n",
    "    return link_list, node_list"
   ]
  },
  {
   "cell_type": "code",
   "execution_count": 625,
   "metadata": {
    "collapsed": false
   },
   "outputs": [],
   "source": [
    "sankey = {}\n",
    "for key in cross_country_with_time.keys():\n",
    "    to_ch = cross_country_with_time[key]['to_ch']\n",
    "    from_ch = cross_country_with_time[key]['from_ch']\n",
    "    link_list, node_list = to_sanky_node_link_list(to_ch, from_ch)\n",
    "    sankey[key] = {}\n",
    "    sankey[key]['nodes'] = node_list\n",
    "    sankey[key]['link']  = link_list"
   ]
  },
  {
   "cell_type": "code",
   "execution_count": 626,
   "metadata": {
    "collapsed": false
   },
   "outputs": [],
   "source": [
    "with open(\"data/twitter-swisscom/sankey_data.json\", \"w\") as f:\n",
    "    json.dump(sankey, f)"
   ]
  }
 ],
 "metadata": {
  "kernelspec": {
   "display_name": "Python 3",
   "language": "python",
   "name": "python3"
  },
  "language_info": {
   "codemirror_mode": {
    "name": "ipython",
    "version": 3
   },
   "file_extension": ".py",
   "mimetype": "text/x-python",
   "name": "python",
   "nbconvert_exporter": "python",
   "pygments_lexer": "ipython3",
   "version": "3.5.2"
  }
 },
 "nbformat": 4,
 "nbformat_minor": 2
}
