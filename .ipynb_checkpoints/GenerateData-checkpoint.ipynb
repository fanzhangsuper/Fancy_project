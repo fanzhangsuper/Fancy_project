{
 "cells": [
  {
   "cell_type": "code",
   "execution_count": null,
   "metadata": {
    "collapsed": false
   },
   "outputs": [],
   "source": [
    "import pandas as pd\n",
    "import csv\n",
    "import numpy as np\n",
    "from scripts.reverse_geocoding import *\n",
    "%load_ext autoreload\n",
    "%autoreload 2"
   ]
  },
  {
   "cell_type": "markdown",
   "metadata": {},
   "source": [
    "[Quoting Problem](http://stackoverflow.com/a/29857126/4811003)"
   ]
  },
  {
   "cell_type": "code",
   "execution_count": null,
   "metadata": {
    "collapsed": false
   },
   "outputs": [],
   "source": [
    "schema = pd.read_table(\"data/twitter-swisscom/schema.txt\", header = None, delim_whitespace=True,index_col=0)\n",
    "schema.head()"
   ]
  },
  {
   "cell_type": "code",
   "execution_count": null,
   "metadata": {
    "collapsed": false
   },
   "outputs": [],
   "source": [
    "# None quating in the dataset\n",
    "df = pd.read_csv(\"data/twitter-swisscom/sample.tsv\", header = None, sep='\\t',quoting=csv.QUOTE_NONE)\n",
    "df.columns = schema[1]\n",
    "df.head()"
   ]
  },
  {
   "cell_type": "markdown",
   "metadata": {},
   "source": [
    "# Data Stats"
   ]
  },
  {
   "cell_type": "markdown",
   "metadata": {},
   "source": [
    "## Case Study\n",
    "\n",
    "#### Information Independent of tweets\n",
    "\n",
    "|attribute| value| |\n",
    "|------|------| --------- |\n",
    "|id | 776523058504925185 | unique index in url|\n",
    "|url |https://twitter.com/alkanoli/status/776523058504925185||\n",
    "|`userLocation`| İstanbul/Burgazada | come from/resides|\n",
    "\n",
    "#### Information related to tweets\n",
    "\n",
    "|attribute| value ||\n",
    "|-----|-----|----|\n",
    "|`text`|'Greek night #geneve (@ Emilios in Genève) https://t.co/sEplW0Mcyz'| content|\n",
    "|`createdAt`|`2016-09-15 20:48:18`| |\n",
    "|`placeId`| `c3a6437e1b1a726d`| place id of a tweet (by inspecting the tweet's webpage)|\n",
    "|`longitude`| 6.14414||\n",
    "|`latitude`|46.1966\t||\n",
    "|`placeLatitude`|46.2048||\n",
    "|`placeLongitude`|6.14319||"
   ]
  },
  {
   "cell_type": "markdown",
   "metadata": {},
   "source": [
    "## Basic Information\n",
    "\n",
    "### How to Use Geo Information\n",
    "\n",
    "1. (`latitude`, `longitude`) and (`placeLatitude`, `placeLongitude`) are basically same. Data of (`placeLatitude`, `placeLongitude`) are more complete.\n",
    "2. `placeId`: name of tweet location. Groups people nearby. We may need **reverse geocoding** to get the name of the exact place."
   ]
  },
  {
   "cell_type": "code",
   "execution_count": null,
   "metadata": {
    "collapsed": false
   },
   "outputs": [],
   "source": [
    "df[(df.longitude != '\\\\N')][['longitude', 'latitude', 'placeLongitude', 'placeLatitude', 'placeId', 'userLocation']].dropna().head(10)"
   ]
  },
  {
   "cell_type": "code",
   "execution_count": null,
   "metadata": {
    "collapsed": false
   },
   "outputs": [],
   "source": [
    "# Example of reverse geocoding.\n",
    "# Be ware of the time and possibly limited API queries.\n",
    "\n",
    "addr = reverse_geocoding(lat=str(47.2763), lng=str(5.99278))\n",
    "parse_country(addr)"
   ]
  },
  {
   "cell_type": "markdown",
   "metadata": {},
   "source": [
    "## Selecting meaningful items"
   ]
  },
  {
   "cell_type": "markdown",
   "metadata": {},
   "source": [
    "TODO:\n",
    "\n",
    "1. some items are splitted into two because of `items`\n",
    "2. invalid geolocation information\n",
    "3. select useful columns."
   ]
  },
  {
   "cell_type": "markdown",
   "metadata": {},
   "source": [
    "#### Number of people with id information"
   ]
  },
  {
   "cell_type": "code",
   "execution_count": null,
   "metadata": {
    "collapsed": false
   },
   "outputs": [],
   "source": [
    "df['userId'].dropna().shape"
   ]
  },
  {
   "cell_type": "code",
   "execution_count": null,
   "metadata": {
    "collapsed": false,
    "scrolled": true
   },
   "outputs": [],
   "source": [
    "df['id'].dropna().shape"
   ]
  },
  {
   "cell_type": "code",
   "execution_count": null,
   "metadata": {
    "collapsed": false
   },
   "outputs": [],
   "source": [
    "indices_with_id = df['id'].dropna().index\n",
    "indices_with_id.shape"
   ]
  },
  {
   "cell_type": "markdown",
   "metadata": {},
   "source": [
    "#### Number of people with geo information"
   ]
  },
  {
   "cell_type": "code",
   "execution_count": null,
   "metadata": {
    "collapsed": false
   },
   "outputs": [],
   "source": [
    "indices_with_geo = df['longitude'].dropna().index\n",
    "indices_with_geo.shape"
   ]
  },
  {
   "cell_type": "code",
   "execution_count": null,
   "metadata": {
    "collapsed": false
   },
   "outputs": [],
   "source": [
    "# indices = indices_with_geo.intersection(indices_with_id)\n",
    "# indices.shape"
   ]
  }
 ],
 "metadata": {
  "kernelspec": {
   "display_name": "Python 3",
   "language": "python",
   "name": "python3"
  },
  "language_info": {
   "codemirror_mode": {
    "name": "ipython",
    "version": 3
   },
   "file_extension": ".py",
   "mimetype": "text/x-python",
   "name": "python",
   "nbconvert_exporter": "python",
   "pygments_lexer": "ipython3",
   "version": "3.5.2"
  }
 },
 "nbformat": 4,
 "nbformat_minor": 0
}
