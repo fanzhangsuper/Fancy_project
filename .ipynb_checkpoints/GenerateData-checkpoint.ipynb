{
 "cells": [
  {
   "cell_type": "code",
   "execution_count": 380,
   "metadata": {
    "collapsed": false
   },
   "outputs": [
    {
     "name": "stdout",
     "output_type": "stream",
     "text": [
      "The autoreload extension is already loaded. To reload it, use:\n",
      "  %reload_ext autoreload\n"
     ]
    }
   ],
   "source": [
    "import pandas as pd\n",
    "import csv\n",
    "import numpy as np\n",
    "from scripts.geocoding import *\n",
    "%load_ext autoreload\n",
    "%autoreload 2"
   ]
  },
  {
   "cell_type": "markdown",
   "metadata": {},
   "source": [
    "[Quoting Problem](http://stackoverflow.com/a/29857126/4811003)"
   ]
  },
  {
   "cell_type": "markdown",
   "metadata": {},
   "source": [
    "**Schema**"
   ]
  },
  {
   "cell_type": "code",
   "execution_count": 2,
   "metadata": {
    "collapsed": false
   },
   "outputs": [
    {
     "data": {
      "text/html": [
       "<div>\n",
       "<table border=\"1\" class=\"dataframe\">\n",
       "  <thead>\n",
       "    <tr style=\"text-align: right;\">\n",
       "      <th></th>\n",
       "      <th>1</th>\n",
       "      <th>2</th>\n",
       "      <th>3</th>\n",
       "      <th>4</th>\n",
       "      <th>5</th>\n",
       "    </tr>\n",
       "    <tr>\n",
       "      <th>0</th>\n",
       "      <th></th>\n",
       "      <th></th>\n",
       "      <th></th>\n",
       "      <th></th>\n",
       "      <th></th>\n",
       "    </tr>\n",
       "  </thead>\n",
       "  <tbody>\n",
       "    <tr>\n",
       "      <th>1</th>\n",
       "      <td>id</td>\n",
       "      <td>bigint(20)</td>\n",
       "      <td>UNSIGNED</td>\n",
       "      <td>No</td>\n",
       "      <td>None</td>\n",
       "    </tr>\n",
       "    <tr>\n",
       "      <th>2</th>\n",
       "      <td>userId</td>\n",
       "      <td>bigint(20)</td>\n",
       "      <td>UNSIGNED</td>\n",
       "      <td>No</td>\n",
       "      <td>None</td>\n",
       "    </tr>\n",
       "    <tr>\n",
       "      <th>3</th>\n",
       "      <td>createdAt</td>\n",
       "      <td>timestamp</td>\n",
       "      <td>No</td>\n",
       "      <td>0000-00-00</td>\n",
       "      <td>00:00:00</td>\n",
       "    </tr>\n",
       "    <tr>\n",
       "      <th>4</th>\n",
       "      <td>text</td>\n",
       "      <td>text</td>\n",
       "      <td>utf8_unicode_ci</td>\n",
       "      <td>No</td>\n",
       "      <td>None</td>\n",
       "    </tr>\n",
       "    <tr>\n",
       "      <th>5</th>\n",
       "      <td>longitude</td>\n",
       "      <td>float</td>\n",
       "      <td>Yes</td>\n",
       "      <td>NaN</td>\n",
       "      <td>NaN</td>\n",
       "    </tr>\n",
       "  </tbody>\n",
       "</table>\n",
       "</div>"
      ],
      "text/plain": [
       "           1           2                3           4         5\n",
       "0                                                              \n",
       "1         id  bigint(20)         UNSIGNED          No      None\n",
       "2     userId  bigint(20)         UNSIGNED          No      None\n",
       "3  createdAt   timestamp               No  0000-00-00  00:00:00\n",
       "4       text        text  utf8_unicode_ci          No      None\n",
       "5  longitude       float              Yes         NaN       NaN"
      ]
     },
     "execution_count": 2,
     "metadata": {},
     "output_type": "execute_result"
    }
   ],
   "source": [
    "schema = pd.read_table(\"data/twitter-swisscom/schema.txt\", header = None, delim_whitespace=True,index_col=0)\n",
    "schema.head()"
   ]
  },
  {
   "cell_type": "markdown",
   "metadata": {},
   "source": [
    "# Preprocessing"
   ]
  },
  {
   "cell_type": "markdown",
   "metadata": {},
   "source": [
    "First process the `sample.tsv` by removing the `\\\\\\n` in the content of twitter."
   ]
  },
  {
   "cell_type": "code",
   "execution_count": 224,
   "metadata": {
    "collapsed": false
   },
   "outputs": [
    {
     "name": "stdout",
     "output_type": "stream",
     "text": [
      "1210\n"
     ]
    }
   ],
   "source": [
    "with open(\"data/twitter-swisscom/sample.tsv\", 'r') as h:\n",
    "    lines = h.readlines()\n",
    "    \n",
    "to_be_processed_lines = [k for k, i in enumerate(lines) if i.endswith('\\\\\\n') ]\n",
    "print(len(to_be_processed_lines))"
   ]
  },
  {
   "cell_type": "code",
   "execution_count": 238,
   "metadata": {
    "collapsed": true
   },
   "outputs": [],
   "source": [
    "def remove_line_breaks(list_of_strings):\n",
    "    for i, s in enumerate(list_of_strings):\n",
    "        if s.endswith('\\\\\\n'):\n",
    "            list_of_strings[i] = s[:-2]\n",
    "\n",
    "remove_line_breaks(lines)\n",
    "with open(\"data/twitter-swisscom/modified_sample.tsv\", 'w') as h:\n",
    "    h.writelines(lines)"
   ]
  },
  {
   "cell_type": "code",
   "execution_count": 239,
   "metadata": {
    "collapsed": false,
    "scrolled": false
   },
   "outputs": [
    {
     "data": {
      "text/html": [
       "<div>\n",
       "<table border=\"1\" class=\"dataframe\">\n",
       "  <thead>\n",
       "    <tr style=\"text-align: right;\">\n",
       "      <th>1</th>\n",
       "      <th>id</th>\n",
       "      <th>userId</th>\n",
       "      <th>createdAt</th>\n",
       "      <th>text</th>\n",
       "      <th>longitude</th>\n",
       "      <th>latitude</th>\n",
       "      <th>placeId</th>\n",
       "      <th>inReplyTo</th>\n",
       "      <th>source</th>\n",
       "      <th>truncated</th>\n",
       "      <th>placeLatitude</th>\n",
       "      <th>placeLongitude</th>\n",
       "      <th>sourceName</th>\n",
       "      <th>sourceUrl</th>\n",
       "      <th>userName</th>\n",
       "      <th>screenName</th>\n",
       "      <th>followersCount</th>\n",
       "      <th>friendsCount</th>\n",
       "      <th>statusesCount</th>\n",
       "      <th>userLocation</th>\n",
       "    </tr>\n",
       "  </thead>\n",
       "  <tbody>\n",
       "    <tr>\n",
       "      <th>0</th>\n",
       "      <td>776522983837954049</td>\n",
       "      <td>735449229028675584</td>\n",
       "      <td>2016-09-15 20:48:01</td>\n",
       "      <td>se lo dici tu... https://t.co/x7Qm1VHBKL</td>\n",
       "      <td>\\N</td>\n",
       "      <td>\\N</td>\n",
       "      <td>51c0e6b24c64e54e</td>\n",
       "      <td>\\N</td>\n",
       "      <td>1</td>\n",
       "      <td>NaN</td>\n",
       "      <td>46.0027</td>\n",
       "      <td>8.96044</td>\n",
       "      <td>Twitter for iPhone</td>\n",
       "      <td>http://twitter.com/#!/download/iphone</td>\n",
       "      <td>plvtone filiae.</td>\n",
       "      <td>hazel_chb</td>\n",
       "      <td>146</td>\n",
       "      <td>110</td>\n",
       "      <td>28621</td>\n",
       "      <td>Earleen.</td>\n",
       "    </tr>\n",
       "    <tr>\n",
       "      <th>1</th>\n",
       "      <td>776523000636203010</td>\n",
       "      <td>2741685639</td>\n",
       "      <td>2016-09-15 20:48:05</td>\n",
       "      <td>https://t.co/noYrTnqmg9</td>\n",
       "      <td>\\N</td>\n",
       "      <td>\\N</td>\n",
       "      <td>4e7c21fd2af027c6</td>\n",
       "      <td>\\N</td>\n",
       "      <td>1</td>\n",
       "      <td>NaN</td>\n",
       "      <td>46.8131</td>\n",
       "      <td>8.22414</td>\n",
       "      <td>Twitter for iPhone</td>\n",
       "      <td>http://twitter.com/#!/download/iphone</td>\n",
       "      <td>samara</td>\n",
       "      <td>letisieg</td>\n",
       "      <td>755</td>\n",
       "      <td>2037</td>\n",
       "      <td>3771</td>\n",
       "      <td>Suisse</td>\n",
       "    </tr>\n",
       "    <tr>\n",
       "      <th>2</th>\n",
       "      <td>776523045200691200</td>\n",
       "      <td>435239151</td>\n",
       "      <td>2016-09-15 20:48:15</td>\n",
       "      <td>@BesacTof @Leonid_CCCP Tu dois t'engager en si...</td>\n",
       "      <td>\\N</td>\n",
       "      <td>\\N</td>\n",
       "      <td>12eb9b254faf37a3</td>\n",
       "      <td>776522113859608576</td>\n",
       "      <td>5</td>\n",
       "      <td>NaN</td>\n",
       "      <td>47.2010</td>\n",
       "      <td>5.94082</td>\n",
       "      <td>Twitter for Android</td>\n",
       "      <td>http://twitter.com/download/android</td>\n",
       "      <td>lebrübrü❤</td>\n",
       "      <td>lebrubru</td>\n",
       "      <td>811</td>\n",
       "      <td>595</td>\n",
       "      <td>30191</td>\n",
       "      <td>Fontain</td>\n",
       "    </tr>\n",
       "    <tr>\n",
       "      <th>3</th>\n",
       "      <td>776523058404290560</td>\n",
       "      <td>503244217</td>\n",
       "      <td>2016-09-15 20:48:18</td>\n",
       "      <td>@Mno0or_Abyat اشوف مظاهرات على قانون العمل الج...</td>\n",
       "      <td>\\N</td>\n",
       "      <td>\\N</td>\n",
       "      <td>30bcd7f767b4041e</td>\n",
       "      <td>776521597515624448</td>\n",
       "      <td>1</td>\n",
       "      <td>NaN</td>\n",
       "      <td>45.8011</td>\n",
       "      <td>6.16552</td>\n",
       "      <td>Twitter for iPhone</td>\n",
       "      <td>http://twitter.com/#!/download/iphone</td>\n",
       "      <td>عبدالله القنيص</td>\n",
       "      <td>bingnais</td>\n",
       "      <td>28433</td>\n",
       "      <td>417</td>\n",
       "      <td>12262</td>\n",
       "      <td>Shargeyah</td>\n",
       "    </tr>\n",
       "    <tr>\n",
       "      <th>4</th>\n",
       "      <td>776523058504925185</td>\n",
       "      <td>452805259</td>\n",
       "      <td>2016-09-15 20:48:18</td>\n",
       "      <td>Greek night #geneve (@ Emilios in Genève) http...</td>\n",
       "      <td>6.14414</td>\n",
       "      <td>46.1966</td>\n",
       "      <td>c3a6437e1b1a726d</td>\n",
       "      <td>\\N</td>\n",
       "      <td>3</td>\n",
       "      <td>NaN</td>\n",
       "      <td>46.2048</td>\n",
       "      <td>6.14319</td>\n",
       "      <td>foursquare</td>\n",
       "      <td>http://foursquare.com</td>\n",
       "      <td>Alkan Şenli</td>\n",
       "      <td>Alkanoli</td>\n",
       "      <td>204</td>\n",
       "      <td>172</td>\n",
       "      <td>3390</td>\n",
       "      <td>İstanbul/Burgazada</td>\n",
       "    </tr>\n",
       "  </tbody>\n",
       "</table>\n",
       "</div>"
      ],
      "text/plain": [
       "1                  id              userId            createdAt  \\\n",
       "0  776522983837954049  735449229028675584  2016-09-15 20:48:01   \n",
       "1  776523000636203010          2741685639  2016-09-15 20:48:05   \n",
       "2  776523045200691200           435239151  2016-09-15 20:48:15   \n",
       "3  776523058404290560           503244217  2016-09-15 20:48:18   \n",
       "4  776523058504925185           452805259  2016-09-15 20:48:18   \n",
       "\n",
       "1                                               text longitude latitude  \\\n",
       "0           se lo dici tu... https://t.co/x7Qm1VHBKL        \\N       \\N   \n",
       "1                            https://t.co/noYrTnqmg9        \\N       \\N   \n",
       "2  @BesacTof @Leonid_CCCP Tu dois t'engager en si...        \\N       \\N   \n",
       "3  @Mno0or_Abyat اشوف مظاهرات على قانون العمل الج...        \\N       \\N   \n",
       "4  Greek night #geneve (@ Emilios in Genève) http...   6.14414  46.1966   \n",
       "\n",
       "1           placeId           inReplyTo  source  truncated  placeLatitude  \\\n",
       "0  51c0e6b24c64e54e                  \\N       1        NaN        46.0027   \n",
       "1  4e7c21fd2af027c6                  \\N       1        NaN        46.8131   \n",
       "2  12eb9b254faf37a3  776522113859608576       5        NaN        47.2010   \n",
       "3  30bcd7f767b4041e  776521597515624448       1        NaN        45.8011   \n",
       "4  c3a6437e1b1a726d                  \\N       3        NaN        46.2048   \n",
       "\n",
       "1  placeLongitude           sourceName                              sourceUrl  \\\n",
       "0         8.96044   Twitter for iPhone  http://twitter.com/#!/download/iphone   \n",
       "1         8.22414   Twitter for iPhone  http://twitter.com/#!/download/iphone   \n",
       "2         5.94082  Twitter for Android    http://twitter.com/download/android   \n",
       "3         6.16552   Twitter for iPhone  http://twitter.com/#!/download/iphone   \n",
       "4         6.14319           foursquare                  http://foursquare.com   \n",
       "\n",
       "1         userName screenName  followersCount  friendsCount  statusesCount  \\\n",
       "0  plvtone filiae.  hazel_chb             146           110          28621   \n",
       "1           samara   letisieg             755          2037           3771   \n",
       "2        lebrübrü❤   lebrubru             811           595          30191   \n",
       "3   عبدالله القنيص   bingnais           28433           417          12262   \n",
       "4      Alkan Şenli   Alkanoli             204           172           3390   \n",
       "\n",
       "1        userLocation  \n",
       "0           Earleen.   \n",
       "1              Suisse  \n",
       "2             Fontain  \n",
       "3           Shargeyah  \n",
       "4  İstanbul/Burgazada  "
      ]
     },
     "execution_count": 239,
     "metadata": {},
     "output_type": "execute_result"
    }
   ],
   "source": [
    "# None quating in the dataset\n",
    "df = pd.read_csv(\"data/twitter-swisscom/modified_sample.tsv\", header = None, sep='\\t',quoting=csv.QUOTE_NONE)\n",
    "df.columns = schema[1]\n",
    "df.head()"
   ]
  },
  {
   "cell_type": "markdown",
   "metadata": {},
   "source": [
    "# Data Stats"
   ]
  },
  {
   "cell_type": "markdown",
   "metadata": {},
   "source": [
    "## Case Study\n",
    "\n",
    "#### Information Independent of tweets\n",
    "\n",
    "|attribute| value| |\n",
    "|------|------| --------- |\n",
    "|id | 776523058504925185 | unique index in url|\n",
    "|url |https://twitter.com/alkanoli/status/776523058504925185||\n",
    "|`userLocation`| İstanbul/Burgazada | come from/resides|\n",
    "\n",
    "#### Information related to tweets\n",
    "\n",
    "|attribute| value ||\n",
    "|-----|-----|----|\n",
    "|`text`|'Greek night #geneve (@ Emilios in Genève) https://t.co/sEplW0Mcyz'| content|\n",
    "|`createdAt`|`2016-09-15 20:48:18`| |\n",
    "|`placeId`| `c3a6437e1b1a726d`| place id of a tweet (by inspecting the tweet's webpage)|\n",
    "|`longitude`| 6.14414||\n",
    "|`latitude`|46.1966\t||\n",
    "|`placeLatitude`|46.2048||\n",
    "|`placeLongitude`|6.14319||"
   ]
  },
  {
   "cell_type": "markdown",
   "metadata": {},
   "source": [
    "## Basic Information\n",
    "\n",
    "### How to Use Geo Information\n",
    "\n",
    "1. (`latitude`, `longitude`) and (`placeLatitude`, `placeLongitude`) are basically same. Data of (`placeLatitude`, `placeLongitude`) are more complete.\n",
    "2. `placeId`: name of tweet location. Groups people nearby. We may need **reverse geocoding** to get the name of the exact place."
   ]
  },
  {
   "cell_type": "code",
   "execution_count": 233,
   "metadata": {
    "collapsed": false,
    "scrolled": false
   },
   "outputs": [
    {
     "data": {
      "text/html": [
       "<div>\n",
       "<table border=\"1\" class=\"dataframe\">\n",
       "  <thead>\n",
       "    <tr style=\"text-align: right;\">\n",
       "      <th>1</th>\n",
       "      <th>longitude</th>\n",
       "      <th>latitude</th>\n",
       "      <th>placeLongitude</th>\n",
       "      <th>placeLatitude</th>\n",
       "      <th>placeId</th>\n",
       "      <th>userLocation</th>\n",
       "    </tr>\n",
       "  </thead>\n",
       "  <tbody>\n",
       "    <tr>\n",
       "      <th>4</th>\n",
       "      <td>6.14414</td>\n",
       "      <td>46.1966</td>\n",
       "      <td>6.14319</td>\n",
       "      <td>46.2048</td>\n",
       "      <td>c3a6437e1b1a726d</td>\n",
       "      <td>İstanbul/Burgazada</td>\n",
       "    </tr>\n",
       "    <tr>\n",
       "      <th>26</th>\n",
       "      <td>8.95092</td>\n",
       "      <td>46.006</td>\n",
       "      <td>8.96044</td>\n",
       "      <td>46.0027</td>\n",
       "      <td>51c0e6b24c64e54e</td>\n",
       "      <td>Lahore</td>\n",
       "    </tr>\n",
       "    <tr>\n",
       "      <th>31</th>\n",
       "      <td>6.81899</td>\n",
       "      <td>47.1003</td>\n",
       "      <td>6.82645</td>\n",
       "      <td>47.1136</td>\n",
       "      <td>c2bf4772ec58dc04</td>\n",
       "      <td>La Chaux-de-Fonds, Neuchâtel</td>\n",
       "    </tr>\n",
       "    <tr>\n",
       "      <th>41</th>\n",
       "      <td>8.94542</td>\n",
       "      <td>45.9915</td>\n",
       "      <td>8.95449</td>\n",
       "      <td>45.9884</td>\n",
       "      <td>6b2eafacf6c765ba</td>\n",
       "      <td>Lahore</td>\n",
       "    </tr>\n",
       "    <tr>\n",
       "      <th>54</th>\n",
       "      <td>5.99278</td>\n",
       "      <td>47.2763</td>\n",
       "      <td>5.96952</td>\n",
       "      <td>47.2635</td>\n",
       "      <td>1cf182db3b9e8fc5</td>\n",
       "      <td>Besançon</td>\n",
       "    </tr>\n",
       "    <tr>\n",
       "      <th>88</th>\n",
       "      <td>9.08087</td>\n",
       "      <td>45.8132</td>\n",
       "      <td>9.08382</td>\n",
       "      <td>45.8002</td>\n",
       "      <td>cd661902b07eb657</td>\n",
       "      <td>\\N</td>\n",
       "    </tr>\n",
       "    <tr>\n",
       "      <th>93</th>\n",
       "      <td>6.10767</td>\n",
       "      <td>46.2308</td>\n",
       "      <td>6.07900</td>\n",
       "      <td>46.2322</td>\n",
       "      <td>068c70be7b3a4cc2</td>\n",
       "      <td>Utrecht, NL</td>\n",
       "    </tr>\n",
       "    <tr>\n",
       "      <th>128</th>\n",
       "      <td>6.15127</td>\n",
       "      <td>46.2101</td>\n",
       "      <td>6.14319</td>\n",
       "      <td>46.2048</td>\n",
       "      <td>c3a6437e1b1a726d</td>\n",
       "      <td>iPhone: 47.632786,-122.026932</td>\n",
       "    </tr>\n",
       "    <tr>\n",
       "      <th>139</th>\n",
       "      <td>7.69677</td>\n",
       "      <td>46.4999</td>\n",
       "      <td>7.71341</td>\n",
       "      <td>46.4657</td>\n",
       "      <td>1231efcfff3a1c64</td>\n",
       "      <td>\\N</td>\n",
       "    </tr>\n",
       "    <tr>\n",
       "      <th>140</th>\n",
       "      <td>8.30979</td>\n",
       "      <td>47.0541</td>\n",
       "      <td>8.31721</td>\n",
       "      <td>47.0408</td>\n",
       "      <td>8b3e53628223753a</td>\n",
       "      <td>\\N</td>\n",
       "    </tr>\n",
       "  </tbody>\n",
       "</table>\n",
       "</div>"
      ],
      "text/plain": [
       "1   longitude latitude  placeLongitude  placeLatitude           placeId  \\\n",
       "4     6.14414  46.1966         6.14319        46.2048  c3a6437e1b1a726d   \n",
       "26    8.95092   46.006         8.96044        46.0027  51c0e6b24c64e54e   \n",
       "31    6.81899  47.1003         6.82645        47.1136  c2bf4772ec58dc04   \n",
       "41    8.94542  45.9915         8.95449        45.9884  6b2eafacf6c765ba   \n",
       "54    5.99278  47.2763         5.96952        47.2635  1cf182db3b9e8fc5   \n",
       "88    9.08087  45.8132         9.08382        45.8002  cd661902b07eb657   \n",
       "93    6.10767  46.2308         6.07900        46.2322  068c70be7b3a4cc2   \n",
       "128   6.15127  46.2101         6.14319        46.2048  c3a6437e1b1a726d   \n",
       "139   7.69677  46.4999         7.71341        46.4657  1231efcfff3a1c64   \n",
       "140   8.30979  47.0541         8.31721        47.0408  8b3e53628223753a   \n",
       "\n",
       "1                     userLocation  \n",
       "4               İstanbul/Burgazada  \n",
       "26                         Lahore   \n",
       "31    La Chaux-de-Fonds, Neuchâtel  \n",
       "41                         Lahore   \n",
       "54                        Besançon  \n",
       "88                              \\N  \n",
       "93                     Utrecht, NL  \n",
       "128  iPhone: 47.632786,-122.026932  \n",
       "139                             \\N  \n",
       "140                             \\N  "
      ]
     },
     "execution_count": 233,
     "metadata": {},
     "output_type": "execute_result"
    }
   ],
   "source": [
    "df[(df.longitude != '\\\\N')][['longitude', 'latitude', 'placeLongitude', 'placeLatitude', 'placeId', 'userLocation']].dropna().head(10)"
   ]
  },
  {
   "cell_type": "markdown",
   "metadata": {},
   "source": [
    "The placeId maybe the hash number of longitude and latitude. They are more compact way for us to group similar users.\n",
    "\n"
   ]
  },
  {
   "cell_type": "markdown",
   "metadata": {},
   "source": [
    "#### We can use geopy to do reverse geocoding using library geopy"
   ]
  },
  {
   "cell_type": "markdown",
   "metadata": {},
   "source": [
    "Since `geopy` has many sources, the resulting format can be different. We will use the most common ones like \n",
    "\n",
    "1. `country_code`\n",
    "2. `state`"
   ]
  },
  {
   "cell_type": "markdown",
   "metadata": {},
   "source": [
    "The following are two examples: the first one is a place in Berlin and the second one is EPFL.\n",
    "\n",
    "Compare two examples, we found:\n",
    "\n",
    "1. EPFL has `county`, `town`, but no `city` entry.\n",
    "2. `Potsdamer Platz` has `city` but no `county`, `town`.\n",
    "\n",
    "Both examples have `state` entry, which seems to be a better choice. (For countries like Liechtenstein which has no `state`, we will ...)"
   ]
  },
  {
   "cell_type": "code",
   "execution_count": 342,
   "metadata": {
    "collapsed": false
   },
   "outputs": [
    {
     "data": {
      "text/plain": [
       "{'address': {'attraction': 'Potsdamer Platz',\n",
       "  'city': 'Berlin',\n",
       "  'city_district': 'Mitte',\n",
       "  'country': 'Deutschland',\n",
       "  'country_code': 'de',\n",
       "  'postcode': '10117',\n",
       "  'road': 'Potsdamer Platz',\n",
       "  'state': 'Berlin'},\n",
       " 'boundingbox': ['52.5093982', '52.5095982', '13.3764983', '13.3766983'],\n",
       " 'display_name': 'Potsdamer Platz, Mitte, Berlin, 10117, Deutschland',\n",
       " 'lat': '52.5094982',\n",
       " 'licence': 'Data © OpenStreetMap contributors, ODbL 1.0. http://www.openstreetmap.org/copyright',\n",
       " 'lon': '13.3765983',\n",
       " 'osm_id': '245981373',\n",
       " 'osm_type': 'node',\n",
       " 'place_id': '644947'}"
      ]
     },
     "execution_count": 342,
     "metadata": {},
     "output_type": "execute_result"
    }
   ],
   "source": [
    "rev_geo(lat=52.509669, lon=13.376294)"
   ]
  },
  {
   "cell_type": "code",
   "execution_count": 346,
   "metadata": {
    "collapsed": false
   },
   "outputs": [
    {
     "data": {
      "text/plain": [
       "(6.566561505148, 46.5186594)"
      ]
     },
     "execution_count": 346,
     "metadata": {},
     "output_type": "execute_result"
    }
   ],
   "source": [
    "geo(loc='EPFL')"
   ]
  },
  {
   "cell_type": "code",
   "execution_count": 349,
   "metadata": {
    "collapsed": false
   },
   "outputs": [
    {
     "data": {
      "text/plain": [
       "{'address': {'country': 'Schweiz, Suisse, Svizzera, Svizra',\n",
       "  'country_code': 'ch',\n",
       "  'county': \"District de l'Ouest lausannois\",\n",
       "  'pedestrian': 'Place Cosandey',\n",
       "  'postcode': '1015',\n",
       "  'state': 'Vaud',\n",
       "  'town': 'Ecublens',\n",
       "  'university': 'École Polytechnique Fédérale de Lausanne (EPFL)'},\n",
       " 'boundingbox': ['46.5152316', '46.5222479', '6.5601751', '6.5721733'],\n",
       " 'display_name': \"École Polytechnique Fédérale de Lausanne (EPFL), Place Cosandey, Ecublens, District de l'Ouest lausannois, Vaud, 1015, Schweiz, Suisse, Svizzera, Svizra\",\n",
       " 'lat': '46.5186594',\n",
       " 'licence': 'Data © OpenStreetMap contributors, ODbL 1.0. http://www.openstreetmap.org/copyright',\n",
       " 'lon': '6.566561505148',\n",
       " 'osm_id': '23391253',\n",
       " 'osm_type': 'way',\n",
       " 'place_id': '68692007'}"
      ]
     },
     "execution_count": 349,
     "metadata": {},
     "output_type": "execute_result"
    }
   ],
   "source": [
    "rev_geo(lon=6.566561505148, lat=46.5186594)"
   ]
  },
  {
   "cell_type": "code",
   "execution_count": 384,
   "metadata": {
    "collapsed": false
   },
   "outputs": [
    {
     "data": {
      "text/plain": [
       "648.9242490859898"
      ]
     },
     "execution_count": 384,
     "metadata": {},
     "output_type": "execute_result"
    }
   ],
   "source": [
    "# Distance in kilo meters using vincent metrics\n",
    "distance(lat1=52.509669, lon1=13.376294,lon2=6.566561505148, lat2=46.5186594)"
   ]
  },
  {
   "cell_type": "markdown",
   "metadata": {},
   "source": [
    "##### Apply to this problem"
   ]
  },
  {
   "cell_type": "code",
   "execution_count": 402,
   "metadata": {
    "collapsed": false
   },
   "outputs": [
    {
     "data": {
      "text/html": [
       "<div>\n",
       "<table border=\"1\" class=\"dataframe\">\n",
       "  <thead>\n",
       "    <tr style=\"text-align: right;\">\n",
       "      <th>1</th>\n",
       "      <th>placeLatitude</th>\n",
       "      <th>placeLongitude</th>\n",
       "    </tr>\n",
       "    <tr>\n",
       "      <th>placeId</th>\n",
       "      <th></th>\n",
       "      <th></th>\n",
       "    </tr>\n",
       "  </thead>\n",
       "  <tbody>\n",
       "    <tr>\n",
       "      <th>000a93ad12003aaa</th>\n",
       "      <td>46.8911</td>\n",
       "      <td>7.51217</td>\n",
       "    </tr>\n",
       "    <tr>\n",
       "      <th>0046b64d1941431e</th>\n",
       "      <td>46.2118</td>\n",
       "      <td>6.43633</td>\n",
       "    </tr>\n",
       "    <tr>\n",
       "      <th>0070770855fc0793</th>\n",
       "      <td>47.4499</td>\n",
       "      <td>10.34480</td>\n",
       "    </tr>\n",
       "    <tr>\n",
       "      <th>007355fb62ccfa7b</th>\n",
       "      <td>45.8411</td>\n",
       "      <td>8.72494</td>\n",
       "    </tr>\n",
       "    <tr>\n",
       "      <th>00b3d266c3ec547d</th>\n",
       "      <td>47.2673</td>\n",
       "      <td>8.67959</td>\n",
       "    </tr>\n",
       "  </tbody>\n",
       "</table>\n",
       "</div>"
      ],
      "text/plain": [
       "1                 placeLatitude  placeLongitude\n",
       "placeId                                        \n",
       "000a93ad12003aaa        46.8911         7.51217\n",
       "0046b64d1941431e        46.2118         6.43633\n",
       "0070770855fc0793        47.4499        10.34480\n",
       "007355fb62ccfa7b        45.8411         8.72494\n",
       "00b3d266c3ec547d        47.2673         8.67959"
      ]
     },
     "execution_count": 402,
     "metadata": {},
     "output_type": "execute_result"
    }
   ],
   "source": [
    "# Since every item with same `placeId` has same lat and lon, we will simple use `first()` method\n",
    "# to groupby\n",
    "placeId_lat_lon_df = df.groupby('placeId').first()[['placeLatitude','placeLongitude']]\n",
    "placeId_lat_lon_df.head()"
   ]
  },
  {
   "cell_type": "code",
   "execution_count": 403,
   "metadata": {
    "collapsed": true
   },
   "outputs": [],
   "source": [
    "import pickle\n",
    "import os\n",
    "\n",
    "if os.path.exists(\"data/twitter-swisscom/placeId_lat_lon_df.pickle\"):\n",
    "    with open(\"data/twitter-swisscom/placeId_lat_lon_df.pickle\", \"rb\") as h:\n",
    "        placeId_lat_lon_df = pickle.load(h)\n",
    "else:\n",
    "    def get_geo_info(x):\n",
    "        return rev_geo(lon=x['placeLongitude'], lat=x['placeLatitude'])\n",
    "\n",
    "    import time\n",
    "    t = time.time()\n",
    "    placeId_lat_lon_df['raw_geo'] = placeId_lat_lon_df.apply(lambda x: get_geo_info(x), axis=1)\n",
    "    print(\"time for all items = \", time.time() - t)\n",
    "    with open(\"data/twitter-swisscom/placeId_lat_lon_df.pickle\", \"wb\") as h:\n",
    "        pickle.dump(placeId_lat_lon_df, h)"
   ]
  },
  {
   "cell_type": "code",
   "execution_count": 445,
   "metadata": {
    "collapsed": false
   },
   "outputs": [
    {
     "data": {
      "text/plain": [
       "{'address': {'country': 'France',\n",
       "  'country_code': 'fr',\n",
       "  'county': 'Thonon-les-Bains',\n",
       "  'postcode': '74420',\n",
       "  'road': 'Route de la Gruaz',\n",
       "  'state': 'Auvergne-Rhône-Alpes',\n",
       "  'suburb': 'Les Andrys',\n",
       "  'village': 'Villard'},\n",
       " 'boundingbox': ['46.2116281', '46.2151875', '6.434952', '6.4378786'],\n",
       " 'display_name': 'Route de la Gruaz, Les Andrys, Villard, Thonon-les-Bains, Haute-Savoie, Auvergne-Rhône-Alpes, 74420, France',\n",
       " 'lat': '46.2129927',\n",
       " 'licence': 'Data © OpenStreetMap contributors, ODbL 1.0. http://www.openstreetmap.org/copyright',\n",
       " 'lon': '6.4369696',\n",
       " 'osm_id': '143600488',\n",
       " 'osm_type': 'way',\n",
       " 'place_id': '96129716'}"
      ]
     },
     "execution_count": 445,
     "metadata": {},
     "output_type": "execute_result"
    }
   ],
   "source": [
    "placeId_lat_lon_df.iloc[1, 2]"
   ]
  },
  {
   "cell_type": "code",
   "execution_count": 428,
   "metadata": {
    "collapsed": false,
    "scrolled": false
   },
   "outputs": [],
   "source": [
    "placeId_lat_lon_df['country_code'] = placeId_lat_lon_df['raw_geo'].apply(lambda x: x['address']['country_code'])"
   ]
  },
  {
   "cell_type": "code",
   "execution_count": 447,
   "metadata": {
    "collapsed": false
   },
   "outputs": [
    {
     "data": {
      "text/plain": [
       "ch    565\n",
       "fr    174\n",
       "it    134\n",
       "de     53\n",
       "at     17\n",
       "li      4\n",
       "tr      1\n",
       "Name: country_code, dtype: int64"
      ]
     },
     "execution_count": 447,
     "metadata": {},
     "output_type": "execute_result"
    }
   ],
   "source": [
    "# swiss, french, german, italian, austria, turky, Liechtenstein\n",
    "placeId_lat_lon_df['country_code'].value_counts()"
   ]
  },
  {
   "cell_type": "code",
   "execution_count": 442,
   "metadata": {
    "collapsed": false,
    "scrolled": true
   },
   "outputs": [],
   "source": [
    "placeId_lat_lon_df['state']=placeId_lat_lon_df['raw_geo'].apply(lambda x: x['address'].get('state'))"
   ]
  },
  {
   "cell_type": "code",
   "execution_count": 448,
   "metadata": {
    "collapsed": false
   },
   "outputs": [
    {
     "data": {
      "text/plain": [
       "array(['Bern - Berne', 'Auvergne-Rhône-Alpes', 'Bayern', 'LOM', 'Zürich',\n",
       "       'Graubünden - Grigioni - Grischun', 'Grand-Est', 'Tirol',\n",
       "       'Schaffhausen', 'Genève', 'Bourgogne-Franche-Comté', 'Vorarlberg',\n",
       "       'Ticino', 'Valais - Wallis', 'Schwyz', 'Thurgau', 'Solothurn',\n",
       "       'Neuchâtel', 'Jura', 'Aargau', 'Basel-Landschaft', 'Vaud',\n",
       "       'Sankt Gallen', 'Basel-Stadt', 'Baden-Württemberg', 'Luzern',\n",
       "       'Fribourg - Freiburg', 'Obwalden', 'Nidwalden', 'PIE', 'Zug',\n",
       "       'Glarus', 'VDA', 'Tekirdağ', None, 'Appenzell Innerrhoden', 'TAA',\n",
       "       'Appenzell Ausserrhoden', 'Uri', 'Nouvelle-Aquitaine'], dtype=object)"
      ]
     },
     "execution_count": 448,
     "metadata": {},
     "output_type": "execute_result"
    }
   ],
   "source": [
    "placeId_lat_lon_df['state'].unique()"
   ]
  },
  {
   "cell_type": "markdown",
   "metadata": {},
   "source": [
    "# Processing\n",
    "\n",
    "## Problems in the data:\n",
    "\n",
    "1. line break '\\' in the text. Solved by preprocess and generate a new file.\n",
    "2. '\\N' in Twitter time stamp. "
   ]
  },
  {
   "cell_type": "markdown",
   "metadata": {},
   "source": [
    "### Deal with missing values"
   ]
  },
  {
   "cell_type": "markdown",
   "metadata": {},
   "source": [
    "##  Time\n",
    "\n",
    "We would like to analysis the people's location/behavior by \n",
    "\n",
    "Periodical behavior of a person/group: \n",
    "\n",
    "1. hour of the twitter: morning, afternoon, evening. (Maybe we can classify them)\n",
    "2. weekday of a week: 1~7 (1 means Monday): Work at some place and visit .. on Sunday\n",
    "3. month: People cross border more frequently in summer/winter/...?\n",
    "\n",
    "Notice the potential problem:\n",
    "\n",
    "1. Bias:\n",
    "    1. some people may only tweet in the weekend.\n",
    "    2. some people only tweet when they are travelling"
   ]
  },
  {
   "cell_type": "markdown",
   "metadata": {},
   "source": [
    "##### pandas library"
   ]
  },
  {
   "cell_type": "code",
   "execution_count": 316,
   "metadata": {
    "collapsed": false
   },
   "outputs": [
    {
     "name": "stdout",
     "output_type": "stream",
     "text": [
      "2016-09-15 20:48:01\n"
     ]
    }
   ],
   "source": [
    "s = df.loc[0, 'createdAt']; print(s)\n",
    "st = pd.Timestamp(s).to_pydatetime()"
   ]
  },
  {
   "cell_type": "code",
   "execution_count": 317,
   "metadata": {
    "collapsed": false
   },
   "outputs": [
    {
     "data": {
      "text/plain": [
       "(15,\n",
       " datetime.date(2016, 9, 15),\n",
       " 'Thu Sep 15 20:48:01 2016',\n",
       " 20,\n",
       " (2016, 37, 4),\n",
       " 4,\n",
       " '2016-09-15T20:48:01')"
      ]
     },
     "execution_count": 317,
     "metadata": {},
     "output_type": "execute_result"
    }
   ],
   "source": [
    "st.day, st.date(), st.ctime(), st.hour, st.isocalendar(), st.isoweekday(), st.isoformat()"
   ]
  },
  {
   "cell_type": "code",
   "execution_count": 305,
   "metadata": {
    "collapsed": false
   },
   "outputs": [
    {
     "data": {
      "text/plain": [
       "(9,\n",
       " 2016,\n",
       " 3,\n",
       " 736222,\n",
       " time.struct_time(tm_year=2016, tm_mon=9, tm_mday=15, tm_hour=20, tm_min=48, tm_sec=1, tm_wday=3, tm_yday=259, tm_isdst=-1))"
      ]
     },
     "execution_count": 305,
     "metadata": {},
     "output_type": "execute_result"
    }
   ],
   "source": [
    "st.month, st.year, st.weekday(), st.toordinal(), st.timetuple()"
   ]
  },
  {
   "cell_type": "markdown",
   "metadata": {},
   "source": [
    "##### For this problem"
   ]
  },
  {
   "cell_type": "code",
   "execution_count": 261,
   "metadata": {
    "collapsed": false
   },
   "outputs": [],
   "source": [
    "df['time'] = df['createdAt'].apply(lambda x: pd.Timestamp(x).to_pydatetime())"
   ]
  },
  {
   "cell_type": "code",
   "execution_count": 266,
   "metadata": {
    "collapsed": false
   },
   "outputs": [],
   "source": [
    "df['weekday'] = df['time'].apply(lambda x: x.weekday())"
   ]
  },
  {
   "cell_type": "code",
   "execution_count": 311,
   "metadata": {
    "collapsed": false
   },
   "outputs": [],
   "source": [
    "df['day'] = df['time'].apply(lambda x: x.day)\n",
    "df['hour'] = df['time'].apply(lambda x: x.hour)\n",
    "df['month'] = df['time'].apply(lambda x: x.month)"
   ]
  },
  {
   "cell_type": "code",
   "execution_count": 313,
   "metadata": {
    "collapsed": false
   },
   "outputs": [
    {
     "data": {
      "text/html": [
       "<div>\n",
       "<table border=\"1\" class=\"dataframe\">\n",
       "  <thead>\n",
       "    <tr style=\"text-align: right;\">\n",
       "      <th>1</th>\n",
       "      <th>time</th>\n",
       "      <th>month</th>\n",
       "      <th>weekday</th>\n",
       "      <th>day</th>\n",
       "      <th>hour</th>\n",
       "    </tr>\n",
       "  </thead>\n",
       "  <tbody>\n",
       "    <tr>\n",
       "      <th>0</th>\n",
       "      <td>2016-09-15 20:48:01</td>\n",
       "      <td>9</td>\n",
       "      <td>3</td>\n",
       "      <td>15</td>\n",
       "      <td>20</td>\n",
       "    </tr>\n",
       "    <tr>\n",
       "      <th>1</th>\n",
       "      <td>2016-09-15 20:48:05</td>\n",
       "      <td>9</td>\n",
       "      <td>3</td>\n",
       "      <td>15</td>\n",
       "      <td>20</td>\n",
       "    </tr>\n",
       "    <tr>\n",
       "      <th>2</th>\n",
       "      <td>2016-09-15 20:48:15</td>\n",
       "      <td>9</td>\n",
       "      <td>3</td>\n",
       "      <td>15</td>\n",
       "      <td>20</td>\n",
       "    </tr>\n",
       "    <tr>\n",
       "      <th>3</th>\n",
       "      <td>2016-09-15 20:48:18</td>\n",
       "      <td>9</td>\n",
       "      <td>3</td>\n",
       "      <td>15</td>\n",
       "      <td>20</td>\n",
       "    </tr>\n",
       "    <tr>\n",
       "      <th>4</th>\n",
       "      <td>2016-09-15 20:48:18</td>\n",
       "      <td>9</td>\n",
       "      <td>3</td>\n",
       "      <td>15</td>\n",
       "      <td>20</td>\n",
       "    </tr>\n",
       "  </tbody>\n",
       "</table>\n",
       "</div>"
      ],
      "text/plain": [
       "1                time  month  weekday  day  hour\n",
       "0 2016-09-15 20:48:01      9        3   15    20\n",
       "1 2016-09-15 20:48:05      9        3   15    20\n",
       "2 2016-09-15 20:48:15      9        3   15    20\n",
       "3 2016-09-15 20:48:18      9        3   15    20\n",
       "4 2016-09-15 20:48:18      9        3   15    20"
      ]
     },
     "execution_count": 313,
     "metadata": {},
     "output_type": "execute_result"
    }
   ],
   "source": [
    "df[['time', 'month', 'weekday', 'day', 'hour']].head(5)"
   ]
  }
 ],
 "metadata": {
  "kernelspec": {
   "display_name": "Python 3",
   "language": "python",
   "name": "python3"
  },
  "language_info": {
   "codemirror_mode": {
    "name": "ipython",
    "version": 3
   },
   "file_extension": ".py",
   "mimetype": "text/x-python",
   "name": "python",
   "nbconvert_exporter": "python",
   "pygments_lexer": "ipython3",
   "version": "3.5.2"
  }
 },
 "nbformat": 4,
 "nbformat_minor": 0
}
