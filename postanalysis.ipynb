{
 "cells": [
  {
   "cell_type": "code",
   "execution_count": 1,
   "metadata": {
    "collapsed": false
   },
   "outputs": [],
   "source": [
    "import pandas as pd\n",
    "import csv\n",
    "import numpy as np\n",
    "import matplotlib.pyplot as plt\n",
    "%load_ext autoreload\n",
    "%autoreload 2\n",
    "%matplotlib inline"
   ]
  },
  {
   "cell_type": "code",
   "execution_count": 2,
   "metadata": {
    "collapsed": true
   },
   "outputs": [],
   "source": [
    "import pickle\n",
    "import os"
   ]
  },
  {
   "cell_type": "code",
   "execution_count": 3,
   "metadata": {
    "collapsed": false
   },
   "outputs": [],
   "source": [
    "with open('data/twitter-swisscom/create_twitter_total.pickle','rb') as c:\n",
    "    create_twitter = pickle.load(c)"
   ]
  },
  {
   "cell_type": "code",
   "execution_count": 13,
   "metadata": {
    "collapsed": false
   },
   "outputs": [],
   "source": [
    "twitter_info=create_twitter.userId.reset_index()\n",
    "twitter_info['createdAt']=create_twitter['createdAt'].tolist()\n",
    "twitter_info['placeId']=create_twitter['placeId'].tolist()\n",
    "twitter_info['weekday']=create_twitter['weekday'].tolist()\n",
    "twitter_info['day']=create_twitter['day'].tolist()\n",
    "twitter_info['hour']=create_twitter['hour'].tolist()\n",
    "twitter_info['month']=create_twitter['month'].tolist()\n",
    "del twitter_info['index']"
   ]
  },
  {
   "cell_type": "code",
   "execution_count": 14,
   "metadata": {
    "collapsed": false,
    "scrolled": true
   },
   "outputs": [
    {
     "data": {
      "text/html": [
       "<div>\n",
       "<table border=\"1\" class=\"dataframe\">\n",
       "  <thead>\n",
       "    <tr style=\"text-align: right;\">\n",
       "      <th></th>\n",
       "      <th>userId</th>\n",
       "      <th>createdAt</th>\n",
       "      <th>placeId</th>\n",
       "      <th>weekday</th>\n",
       "      <th>day</th>\n",
       "      <th>hour</th>\n",
       "      <th>month</th>\n",
       "    </tr>\n",
       "  </thead>\n",
       "  <tbody>\n",
       "    <tr>\n",
       "      <th>0</th>\n",
       "      <td>30445147</td>\n",
       "      <td>2013-04-24 01:42:07</td>\n",
       "      <td>508f024bc856afc5</td>\n",
       "      <td>2</td>\n",
       "      <td>24</td>\n",
       "      <td>1</td>\n",
       "      <td>4</td>\n",
       "    </tr>\n",
       "    <tr>\n",
       "      <th>1</th>\n",
       "      <td>1136150214</td>\n",
       "      <td>2013-04-24 01:42:39</td>\n",
       "      <td>d969dab4efecff93</td>\n",
       "      <td>2</td>\n",
       "      <td>24</td>\n",
       "      <td>1</td>\n",
       "      <td>4</td>\n",
       "    </tr>\n",
       "    <tr>\n",
       "      <th>2</th>\n",
       "      <td>853308949</td>\n",
       "      <td>2013-04-24 01:42:44</td>\n",
       "      <td>a573c842499b9471</td>\n",
       "      <td>2</td>\n",
       "      <td>24</td>\n",
       "      <td>1</td>\n",
       "      <td>4</td>\n",
       "    </tr>\n",
       "    <tr>\n",
       "      <th>3</th>\n",
       "      <td>1136150214</td>\n",
       "      <td>2013-04-24 01:43:01</td>\n",
       "      <td>d969dab4efecff93</td>\n",
       "      <td>2</td>\n",
       "      <td>24</td>\n",
       "      <td>1</td>\n",
       "      <td>4</td>\n",
       "    </tr>\n",
       "    <tr>\n",
       "      <th>4</th>\n",
       "      <td>1136150214</td>\n",
       "      <td>2013-04-24 01:44:13</td>\n",
       "      <td>d969dab4efecff93</td>\n",
       "      <td>2</td>\n",
       "      <td>24</td>\n",
       "      <td>1</td>\n",
       "      <td>4</td>\n",
       "    </tr>\n",
       "  </tbody>\n",
       "</table>\n",
       "</div>"
      ],
      "text/plain": [
       "       userId            createdAt           placeId  weekday  day  hour  \\\n",
       "0    30445147  2013-04-24 01:42:07  508f024bc856afc5        2   24     1   \n",
       "1  1136150214  2013-04-24 01:42:39  d969dab4efecff93        2   24     1   \n",
       "2   853308949  2013-04-24 01:42:44  a573c842499b9471        2   24     1   \n",
       "3  1136150214  2013-04-24 01:43:01  d969dab4efecff93        2   24     1   \n",
       "4  1136150214  2013-04-24 01:44:13  d969dab4efecff93        2   24     1   \n",
       "\n",
       "   month  \n",
       "0      4  \n",
       "1      4  \n",
       "2      4  \n",
       "3      4  \n",
       "4      4  "
      ]
     },
     "execution_count": 14,
     "metadata": {},
     "output_type": "execute_result"
    }
   ],
   "source": [
    "twitter_info.head()"
   ]
  },
  {
   "cell_type": "markdown",
   "metadata": {},
   "source": [
    "calculate the total number of each user posted."
   ]
  },
  {
   "cell_type": "code",
   "execution_count": 15,
   "metadata": {
    "collapsed": false
   },
   "outputs": [],
   "source": [
    "twitter_num=twitter_info[['createdAt','userId']].groupby('userId').count()"
   ]
  },
  {
   "cell_type": "code",
   "execution_count": 16,
   "metadata": {
    "collapsed": false
   },
   "outputs": [],
   "source": [
    "twitter_dict=twitter_num['createdAt'].to_dict()"
   ]
  },
  {
   "cell_type": "code",
   "execution_count": 17,
   "metadata": {
    "collapsed": false
   },
   "outputs": [],
   "source": [
    "twitter_info['twitternum'] = twitter_info['userId'].map(twitter_dict)"
   ]
  },
  {
   "cell_type": "code",
   "execution_count": 18,
   "metadata": {
    "collapsed": false
   },
   "outputs": [
    {
     "name": "stderr",
     "output_type": "stream",
     "text": [
      "/Library/Frameworks/Python.framework/Versions/3.5/lib/python3.5/site-packages/ipykernel/__main__.py:1: FutureWarning: sort(columns=....) is deprecated, use sort_values(by=.....)\n",
      "  if __name__ == '__main__':\n"
     ]
    },
    {
     "data": {
      "text/html": [
       "<div>\n",
       "<table border=\"1\" class=\"dataframe\">\n",
       "  <thead>\n",
       "    <tr style=\"text-align: right;\">\n",
       "      <th></th>\n",
       "      <th>createdAt</th>\n",
       "    </tr>\n",
       "    <tr>\n",
       "      <th>userId</th>\n",
       "      <th></th>\n",
       "    </tr>\n",
       "  </thead>\n",
       "  <tbody>\n",
       "    <tr>\n",
       "      <th>776912815</th>\n",
       "      <td>142755</td>\n",
       "    </tr>\n",
       "    <tr>\n",
       "      <th>81372836</th>\n",
       "      <td>77117</td>\n",
       "    </tr>\n",
       "    <tr>\n",
       "      <th>431865253</th>\n",
       "      <td>61073</td>\n",
       "    </tr>\n",
       "    <tr>\n",
       "      <th>74506350</th>\n",
       "      <td>56466</td>\n",
       "    </tr>\n",
       "    <tr>\n",
       "      <th>541668935</th>\n",
       "      <td>48739</td>\n",
       "    </tr>\n",
       "  </tbody>\n",
       "</table>\n",
       "</div>"
      ],
      "text/plain": [
       "           createdAt\n",
       "userId              \n",
       "776912815     142755\n",
       "81372836       77117\n",
       "431865253      61073\n",
       "74506350       56466\n",
       "541668935      48739"
      ]
     },
     "execution_count": 18,
     "metadata": {},
     "output_type": "execute_result"
    }
   ],
   "source": [
    "twitter_num_sort=twitter_num.sort(['createdAt'],ascending=False)\n",
    "twitter_num_sort.head()"
   ]
  },
  {
   "cell_type": "code",
   "execution_count": 47,
   "metadata": {
    "collapsed": false
   },
   "outputs": [
    {
     "data": {
      "text/plain": [
       "(88008, 1)"
      ]
     },
     "execution_count": 47,
     "metadata": {},
     "output_type": "execute_result"
    }
   ],
   "source": [
    "twitter_num_sort[twitter_num_sort.createdAt > 10].shape"
   ]
  },
  {
   "cell_type": "markdown",
   "metadata": {},
   "source": [
    "plot the  scatter based  on the  number of  twitter "
   ]
  },
  {
   "cell_type": "code",
   "execution_count": 41,
   "metadata": {
    "collapsed": true
   },
   "outputs": [],
   "source": [
    "with open(\"data/twitter-swisscom/userId_x_numTW.pickle\", \"wb\") as f:\n",
    "    pickle.dump(twitter_num_sort, f)"
   ]
  },
  {
   "cell_type": "code",
   "execution_count": 39,
   "metadata": {
    "collapsed": false
   },
   "outputs": [
    {
     "data": {
      "text/html": [
       "<div>\n",
       "<table border=\"1\" class=\"dataframe\">\n",
       "  <thead>\n",
       "    <tr style=\"text-align: right;\">\n",
       "      <th></th>\n",
       "      <th>createdAt</th>\n",
       "    </tr>\n",
       "    <tr>\n",
       "      <th>userId</th>\n",
       "      <th></th>\n",
       "    </tr>\n",
       "  </thead>\n",
       "  <tbody>\n",
       "    <tr>\n",
       "      <th>776912815</th>\n",
       "      <td>142755</td>\n",
       "    </tr>\n",
       "    <tr>\n",
       "      <th>81372836</th>\n",
       "      <td>77117</td>\n",
       "    </tr>\n",
       "    <tr>\n",
       "      <th>431865253</th>\n",
       "      <td>61073</td>\n",
       "    </tr>\n",
       "    <tr>\n",
       "      <th>74506350</th>\n",
       "      <td>56466</td>\n",
       "    </tr>\n",
       "    <tr>\n",
       "      <th>541668935</th>\n",
       "      <td>48739</td>\n",
       "    </tr>\n",
       "  </tbody>\n",
       "</table>\n",
       "</div>"
      ],
      "text/plain": [
       "           createdAt\n",
       "userId              \n",
       "776912815     142755\n",
       "81372836       77117\n",
       "431865253      61073\n",
       "74506350       56466\n",
       "541668935      48739"
      ]
     },
     "execution_count": 39,
     "metadata": {},
     "output_type": "execute_result"
    }
   ],
   "source": [
    "twitter_num_sort.head()"
   ]
  },
  {
   "cell_type": "code",
   "execution_count": 64,
   "metadata": {
    "collapsed": false
   },
   "outputs": [],
   "source": [
    "top_5_per = twitter_num_sort.iloc[:int(twitter_num_sort.shape[0]*0.05)]"
   ]
  },
  {
   "cell_type": "code",
   "execution_count": 68,
   "metadata": {
    "collapsed": false,
    "scrolled": true
   },
   "outputs": [
    {
     "data": {
      "text/plain": [
       "createdAt    0.836431\n",
       "dtype: float64"
      ]
     },
     "execution_count": 68,
     "metadata": {},
     "output_type": "execute_result"
    }
   ],
   "source": [
    "top_5_per.sum() / twitter_num_sort.sum()"
   ]
  },
  {
   "cell_type": "code",
   "execution_count": 70,
   "metadata": {
    "collapsed": false
   },
   "outputs": [
    {
     "data": {
      "text/plain": [
       "createdAt    120\n",
       "Name: 356221366, dtype: int64"
      ]
     },
     "execution_count": 70,
     "metadata": {},
     "output_type": "execute_result"
    }
   ],
   "source": [
    "top_5_per.iloc[-1]"
   ]
  },
  {
   "cell_type": "code",
   "execution_count": 66,
   "metadata": {
    "collapsed": false
   },
   "outputs": [
    {
     "data": {
      "text/plain": [
       "(18019, 1)"
      ]
     },
     "execution_count": 66,
     "metadata": {},
     "output_type": "execute_result"
    }
   ],
   "source": [
    "top_5_per.shape"
   ]
  },
  {
   "cell_type": "code",
   "execution_count": 56,
   "metadata": {
    "collapsed": false
   },
   "outputs": [],
   "source": [
    "t = twitter_num_sort.sum()"
   ]
  },
  {
   "cell_type": "code",
   "execution_count": 58,
   "metadata": {
    "collapsed": true
   },
   "outputs": [],
   "source": [
    "num_people = twitter_num_sort[twitter_num_sort.createdAt > 100]"
   ]
  },
  {
   "cell_type": "code",
   "execution_count": 62,
   "metadata": {
    "collapsed": false
   },
   "outputs": [
    {
     "data": {
      "text/plain": [
       "0.05684000221987902"
      ]
     },
     "execution_count": 62,
     "metadata": {},
     "output_type": "execute_result"
    }
   ],
   "source": [
    "num_people.shape[0]/twitter_num_sort.shape[0]"
   ]
  },
  {
   "cell_type": "code",
   "execution_count": 57,
   "metadata": {
    "collapsed": false
   },
   "outputs": [
    {
     "data": {
      "text/plain": [
       "createdAt    0.849991\n",
       "dtype: float64"
      ]
     },
     "execution_count": 57,
     "metadata": {},
     "output_type": "execute_result"
    }
   ],
   "source": [
    "twitter_num_sort[twitter_num_sort.createdAt > 100].sum() / t"
   ]
  },
  {
   "cell_type": "code",
   "execution_count": 28,
   "metadata": {
    "collapsed": false
   },
   "outputs": [],
   "source": [
    "userid=np.arange(360380)\n",
    "twitternum=np.array(twitter_num_sort.ix[:,0])"
   ]
  },
  {
   "cell_type": "code",
   "execution_count": 31,
   "metadata": {
    "collapsed": false
   },
   "outputs": [],
   "source": [
    "twitternum = np.log(twitternum)"
   ]
  },
  {
   "cell_type": "code",
   "execution_count": 32,
   "metadata": {
    "collapsed": false,
    "scrolled": true
   },
   "outputs": [
    {
     "data": {
      "text/plain": [
       "<matplotlib.collections.PathCollection at 0x104d2fa20>"
      ]
     },
     "execution_count": 32,
     "metadata": {},
     "output_type": "execute_result"
    },
    {
     "data": {
      "image/png": "[encoded data removed]",
      "text/plain": [
       "<matplotlib.figure.Figure at 0x165975b38>"
      ]
     },
     "metadata": {},
     "output_type": "display_data"
    }
   ],
   "source": [
    "fig = plt.figure()\n",
    "ax = fig.add_subplot(111)\n",
    "ax.scatter(userid,twitternum)"
   ]
  },
  {
   "cell_type": "code",
   "execution_count": 34,
   "metadata": {
    "collapsed": false
   },
   "outputs": [],
   "source": [
    "twitter_series=twitter_num_sort.ix[:,0]\n",
    "twitter_count=twitter_series.reset_index()"
   ]
  },
  {
   "cell_type": "code",
   "execution_count": 35,
   "metadata": {
    "collapsed": false
   },
   "outputs": [],
   "source": [
    "totel_number=twitter_count['createdAt'].sum()\n",
    "twitter_count_20=twitter_count.ix[:72076,:]\n",
    "part_number=twitter_count_20['createdAt'].sum()\n",
    "ratio= part_number/totel_number"
   ]
  },
  {
   "cell_type": "code",
   "execution_count": 36,
   "metadata": {
    "collapsed": false
   },
   "outputs": [
    {
     "data": {
      "text/plain": [
       "0.94689248624127842"
      ]
     },
     "execution_count": 36,
     "metadata": {},
     "output_type": "execute_result"
    }
   ],
   "source": [
    "ratio"
   ]
  },
  {
   "cell_type": "markdown",
   "metadata": {},
   "source": [
    "The result shows that  most  twitter  are posted by a little part of users, which is similar as  long-tail  effect"
   ]
  },
  {
   "cell_type": "markdown",
   "metadata": {},
   "source": [
    "bias analysis"
   ]
  },
  {
   "cell_type": "code",
   "execution_count": 37,
   "metadata": {
    "collapsed": false
   },
   "outputs": [],
   "source": [
    "twitter_geo_bias=twitter_info.groupby(['userId','placeId'])[['twitternum']].count() "
   ]
  },
  {
   "cell_type": "code",
   "execution_count": 114,
   "metadata": {
    "collapsed": false
   },
   "outputs": [],
   "source": [
    "tmp = twitter_geo_bias.reset_index()"
   ]
  },
  {
   "cell_type": "code",
   "execution_count": 120,
   "metadata": {
    "collapsed": false
   },
   "outputs": [],
   "source": [
    "tmp1 = geo_info.reset_index()"
   ]
  },
  {
   "cell_type": "code",
   "execution_count": 123,
   "metadata": {
    "collapsed": false
   },
   "outputs": [],
   "source": [
    "c = pd.merge(tmp, tmp1, on='placeId')"
   ]
  },
  {
   "cell_type": "code",
   "execution_count": 156,
   "metadata": {
    "collapsed": false
   },
   "outputs": [
    {
     "data": {
      "text/plain": [
       "twitternum    f22db8cc2a4d9dfb\n",
       "dtype: object"
      ]
     },
     "execution_count": 156,
     "metadata": {},
     "output_type": "execute_result"
    }
   ],
   "source": [
    "twitter_geo_bias.loc[246].apply(np.argmax)"
   ]
  },
  {
   "cell_type": "code",
   "execution_count": 155,
   "metadata": {
    "collapsed": false
   },
   "outputs": [
    {
     "data": {
      "text/plain": [
       "twitternum    8\n",
       "dtype: int64"
      ]
     },
     "execution_count": 155,
     "metadata": {},
     "output_type": "execute_result"
    }
   ],
   "source": [
    "twitter_geo_bias.loc[246].apply(np.max)"
   ]
  },
  {
   "cell_type": "code",
   "execution_count": 171,
   "metadata": {
    "collapsed": false
   },
   "outputs": [],
   "source": [
    "userIds = twitter_info.userId.unique()"
   ]
  },
  {
   "cell_type": "code",
   "execution_count": 172,
   "metadata": {
    "collapsed": false
   },
   "outputs": [
    {
     "data": {
      "text/plain": [
       "(360380,)"
      ]
     },
     "execution_count": 172,
     "metadata": {},
     "output_type": "execute_result"
    }
   ],
   "source": [
    "userIds.shape"
   ]
  },
  {
   "cell_type": "code",
   "execution_count": 184,
   "metadata": {
    "collapsed": true
   },
   "outputs": [],
   "source": [
    "a = pd.Series(np.arange(10))\n",
    "b = pd.Series(np.arange(10))"
   ]
  },
  {
   "cell_type": "code",
   "execution_count": 186,
   "metadata": {
    "collapsed": false
   },
   "outputs": [],
   "source": [
    "c = zip(a, b)"
   ]
  },
  {
   "cell_type": "code",
   "execution_count": 191,
   "metadata": {
    "collapsed": false
   },
   "outputs": [],
   "source": [
    "import collections"
   ]
  },
  {
   "cell_type": "code",
   "execution_count": 223,
   "metadata": {
    "collapsed": false
   },
   "outputs": [],
   "source": [
    "d = collections.namedtuple('foo', ['x', 'y'])"
   ]
  },
  {
   "cell_type": "code",
   "execution_count": 224,
   "metadata": {
    "collapsed": false
   },
   "outputs": [],
   "source": [
    "e = d('100', 10)"
   ]
  },
  {
   "cell_type": "code",
   "execution_count": 225,
   "metadata": {
    "collapsed": false
   },
   "outputs": [
    {
     "data": {
      "text/plain": [
       "'100'"
      ]
     },
     "execution_count": 225,
     "metadata": {},
     "output_type": "execute_result"
    }
   ],
   "source": [
    "e.x"
   ]
  },
  {
   "cell_type": "code",
   "execution_count": 222,
   "metadata": {
    "collapsed": false
   },
   "outputs": [
    {
     "data": {
      "text/html": [
       "<div>\n",
       "<table border=\"1\" class=\"dataframe\">\n",
       "  <thead>\n",
       "    <tr style=\"text-align: right;\">\n",
       "      <th></th>\n",
       "      <th>userId</th>\n",
       "      <th>placeId</th>\n",
       "      <th>twitternum</th>\n",
       "    </tr>\n",
       "  </thead>\n",
       "  <tbody>\n",
       "    <tr>\n",
       "      <th>0</th>\n",
       "      <td>246</td>\n",
       "      <td>068c70be7b3a4cc2</td>\n",
       "      <td>2</td>\n",
       "    </tr>\n",
       "    <tr>\n",
       "      <th>1</th>\n",
       "      <td>246</td>\n",
       "      <td>bcd0c4fcff4216c1</td>\n",
       "      <td>1</td>\n",
       "    </tr>\n",
       "    <tr>\n",
       "      <th>2</th>\n",
       "      <td>246</td>\n",
       "      <td>dd26be6f16473902</td>\n",
       "      <td>4</td>\n",
       "    </tr>\n",
       "    <tr>\n",
       "      <th>3</th>\n",
       "      <td>246</td>\n",
       "      <td>f22db8cc2a4d9dfb</td>\n",
       "      <td>8</td>\n",
       "    </tr>\n",
       "    <tr>\n",
       "      <th>4</th>\n",
       "      <td>259</td>\n",
       "      <td>05f39a968c45748d</td>\n",
       "      <td>1</td>\n",
       "    </tr>\n",
       "  </tbody>\n",
       "</table>\n",
       "</div>"
      ],
      "text/plain": [
       "   userId           placeId  twitternum\n",
       "0     246  068c70be7b3a4cc2           2\n",
       "1     246  bcd0c4fcff4216c1           1\n",
       "2     246  dd26be6f16473902           4\n",
       "3     246  f22db8cc2a4d9dfb           8\n",
       "4     259  05f39a968c45748d           1"
      ]
     },
     "execution_count": 222,
     "metadata": {},
     "output_type": "execute_result"
    }
   ],
   "source": [
    "tmp = twitter_geo_bias.reset_index()\n",
    "tmp.head()"
   ]
  },
  {
   "cell_type": "code",
   "execution_count": 226,
   "metadata": {
    "collapsed": false
   },
   "outputs": [],
   "source": [
    "tmp1 = tmp.apply(lambda x: d(x.loc['placeId'], x.loc['twitternum']), axis=1)"
   ]
  },
  {
   "cell_type": "code",
   "execution_count": 228,
   "metadata": {
    "collapsed": false
   },
   "outputs": [],
   "source": [
    "tmp['composite'] = tmp1"
   ]
  },
  {
   "cell_type": "code",
   "execution_count": 236,
   "metadata": {
    "collapsed": false
   },
   "outputs": [
    {
     "data": {
      "text/plain": [
       "False"
      ]
     },
     "execution_count": 236,
     "metadata": {},
     "output_type": "execute_result"
    }
   ],
   "source": [
    "hasattr(e, 'z')"
   ]
  },
  {
   "cell_type": "code",
   "execution_count": 296,
   "metadata": {
    "collapsed": true
   },
   "outputs": [],
   "source": [
    "def foo(inp):\n",
    "    a = np.argmax([i.y for i in inp])\n",
    "    return inp.iloc[a]"
   ]
  },
  {
   "cell_type": "code",
   "execution_count": 297,
   "metadata": {
    "collapsed": false
   },
   "outputs": [],
   "source": [
    "user_x_residence_df = tmp[:].groupby('userId').aggregate({'composite': foo})"
   ]
  },
  {
   "cell_type": "code",
   "execution_count": 306,
   "metadata": {
    "collapsed": false
   },
   "outputs": [
    {
     "data": {
      "text/html": [
       "<div>\n",
       "<table border=\"1\" class=\"dataframe\">\n",
       "  <thead>\n",
       "    <tr style=\"text-align: right;\">\n",
       "      <th></th>\n",
       "      <th>userId</th>\n",
       "      <th>placeId</th>\n",
       "      <th>twitternum</th>\n",
       "      <th>composite</th>\n",
       "    </tr>\n",
       "  </thead>\n",
       "  <tbody>\n",
       "    <tr>\n",
       "      <th>0</th>\n",
       "      <td>246</td>\n",
       "      <td>068c70be7b3a4cc2</td>\n",
       "      <td>2</td>\n",
       "      <td>(068c70be7b3a4cc2, 2)</td>\n",
       "    </tr>\n",
       "    <tr>\n",
       "      <th>1</th>\n",
       "      <td>246</td>\n",
       "      <td>bcd0c4fcff4216c1</td>\n",
       "      <td>1</td>\n",
       "      <td>(bcd0c4fcff4216c1, 1)</td>\n",
       "    </tr>\n",
       "    <tr>\n",
       "      <th>2</th>\n",
       "      <td>246</td>\n",
       "      <td>dd26be6f16473902</td>\n",
       "      <td>4</td>\n",
       "      <td>(dd26be6f16473902, 4)</td>\n",
       "    </tr>\n",
       "    <tr>\n",
       "      <th>3</th>\n",
       "      <td>246</td>\n",
       "      <td>f22db8cc2a4d9dfb</td>\n",
       "      <td>8</td>\n",
       "      <td>(f22db8cc2a4d9dfb, 8)</td>\n",
       "    </tr>\n",
       "    <tr>\n",
       "      <th>4</th>\n",
       "      <td>259</td>\n",
       "      <td>05f39a968c45748d</td>\n",
       "      <td>1</td>\n",
       "      <td>(05f39a968c45748d, 1)</td>\n",
       "    </tr>\n",
       "    <tr>\n",
       "      <th>5</th>\n",
       "      <td>259</td>\n",
       "      <td>068c70be7b3a4cc2</td>\n",
       "      <td>3</td>\n",
       "      <td>(068c70be7b3a4cc2, 3)</td>\n",
       "    </tr>\n",
       "    <tr>\n",
       "      <th>6</th>\n",
       "      <td>259</td>\n",
       "      <td>0ea7af39d11e19e7</td>\n",
       "      <td>1</td>\n",
       "      <td>(0ea7af39d11e19e7, 1)</td>\n",
       "    </tr>\n",
       "    <tr>\n",
       "      <th>7</th>\n",
       "      <td>259</td>\n",
       "      <td>384df7b39fc369c8</td>\n",
       "      <td>1</td>\n",
       "      <td>(384df7b39fc369c8, 1)</td>\n",
       "    </tr>\n",
       "    <tr>\n",
       "      <th>8</th>\n",
       "      <td>259</td>\n",
       "      <td>3acb748d0f1e9265</td>\n",
       "      <td>7</td>\n",
       "      <td>(3acb748d0f1e9265, 7)</td>\n",
       "    </tr>\n",
       "    <tr>\n",
       "      <th>9</th>\n",
       "      <td>259</td>\n",
       "      <td>51ae948e08959af7</td>\n",
       "      <td>6</td>\n",
       "      <td>(51ae948e08959af7, 6)</td>\n",
       "    </tr>\n",
       "    <tr>\n",
       "      <th>10</th>\n",
       "      <td>259</td>\n",
       "      <td>7fbd6b3c7c8e7687</td>\n",
       "      <td>2</td>\n",
       "      <td>(7fbd6b3c7c8e7687, 2)</td>\n",
       "    </tr>\n",
       "    <tr>\n",
       "      <th>11</th>\n",
       "      <td>259</td>\n",
       "      <td>c3a6437e1b1a726d</td>\n",
       "      <td>1</td>\n",
       "      <td>(c3a6437e1b1a726d, 1)</td>\n",
       "    </tr>\n",
       "    <tr>\n",
       "      <th>12</th>\n",
       "      <td>259</td>\n",
       "      <td>d634e9b0a9802b08</td>\n",
       "      <td>1</td>\n",
       "      <td>(d634e9b0a9802b08, 1)</td>\n",
       "    </tr>\n",
       "    <tr>\n",
       "      <th>13</th>\n",
       "      <td>259</td>\n",
       "      <td>d9b5a7ae9b6959c2</td>\n",
       "      <td>1</td>\n",
       "      <td>(d9b5a7ae9b6959c2, 1)</td>\n",
       "    </tr>\n",
       "    <tr>\n",
       "      <th>14</th>\n",
       "      <td>456</td>\n",
       "      <td>3acb748d0f1e9265</td>\n",
       "      <td>1</td>\n",
       "      <td>(3acb748d0f1e9265, 1)</td>\n",
       "    </tr>\n",
       "    <tr>\n",
       "      <th>15</th>\n",
       "      <td>456</td>\n",
       "      <td>8b3e53628223753a</td>\n",
       "      <td>2</td>\n",
       "      <td>(8b3e53628223753a, 2)</td>\n",
       "    </tr>\n",
       "    <tr>\n",
       "      <th>16</th>\n",
       "      <td>456</td>\n",
       "      <td>c3a6437e1b1a726d</td>\n",
       "      <td>3</td>\n",
       "      <td>(c3a6437e1b1a726d, 3)</td>\n",
       "    </tr>\n",
       "    <tr>\n",
       "      <th>17</th>\n",
       "      <td>577</td>\n",
       "      <td>068c70be7b3a4cc2</td>\n",
       "      <td>1</td>\n",
       "      <td>(068c70be7b3a4cc2, 1)</td>\n",
       "    </tr>\n",
       "    <tr>\n",
       "      <th>18</th>\n",
       "      <td>821</td>\n",
       "      <td>6c07f3233c333f95</td>\n",
       "      <td>1</td>\n",
       "      <td>(6c07f3233c333f95, 1)</td>\n",
       "    </tr>\n",
       "    <tr>\n",
       "      <th>19</th>\n",
       "      <td>989</td>\n",
       "      <td>57d9b5e0a53e48e5</td>\n",
       "      <td>1</td>\n",
       "      <td>(57d9b5e0a53e48e5, 1)</td>\n",
       "    </tr>\n",
       "    <tr>\n",
       "      <th>20</th>\n",
       "      <td>1013</td>\n",
       "      <td>9ddc9f475664c176</td>\n",
       "      <td>17</td>\n",
       "      <td>(9ddc9f475664c176, 17)</td>\n",
       "    </tr>\n",
       "    <tr>\n",
       "      <th>21</th>\n",
       "      <td>1013</td>\n",
       "      <td>e38a1a641d02f8db</td>\n",
       "      <td>2</td>\n",
       "      <td>(e38a1a641d02f8db, 2)</td>\n",
       "    </tr>\n",
       "    <tr>\n",
       "      <th>22</th>\n",
       "      <td>1068</td>\n",
       "      <td>c3a6437e1b1a726d</td>\n",
       "      <td>2</td>\n",
       "      <td>(c3a6437e1b1a726d, 2)</td>\n",
       "    </tr>\n",
       "    <tr>\n",
       "      <th>23</th>\n",
       "      <td>1102</td>\n",
       "      <td>0412e98671147f93</td>\n",
       "      <td>2</td>\n",
       "      <td>(0412e98671147f93, 2)</td>\n",
       "    </tr>\n",
       "    <tr>\n",
       "      <th>24</th>\n",
       "      <td>1102</td>\n",
       "      <td>3acb748d0f1e9265</td>\n",
       "      <td>4</td>\n",
       "      <td>(3acb748d0f1e9265, 4)</td>\n",
       "    </tr>\n",
       "    <tr>\n",
       "      <th>25</th>\n",
       "      <td>1102</td>\n",
       "      <td>57d9b5e0a53e48e5</td>\n",
       "      <td>2</td>\n",
       "      <td>(57d9b5e0a53e48e5, 2)</td>\n",
       "    </tr>\n",
       "    <tr>\n",
       "      <th>26</th>\n",
       "      <td>1102</td>\n",
       "      <td>db94c1cccc67c4f4</td>\n",
       "      <td>4</td>\n",
       "      <td>(db94c1cccc67c4f4, 4)</td>\n",
       "    </tr>\n",
       "    <tr>\n",
       "      <th>27</th>\n",
       "      <td>1102</td>\n",
       "      <td>dc4e13302cc5ef12</td>\n",
       "      <td>22</td>\n",
       "      <td>(dc4e13302cc5ef12, 22)</td>\n",
       "    </tr>\n",
       "    <tr>\n",
       "      <th>28</th>\n",
       "      <td>1140</td>\n",
       "      <td>068c70be7b3a4cc2</td>\n",
       "      <td>6</td>\n",
       "      <td>(068c70be7b3a4cc2, 6)</td>\n",
       "    </tr>\n",
       "    <tr>\n",
       "      <th>29</th>\n",
       "      <td>1140</td>\n",
       "      <td>cef03d32ea5d9b59</td>\n",
       "      <td>2</td>\n",
       "      <td>(cef03d32ea5d9b59, 2)</td>\n",
       "    </tr>\n",
       "    <tr>\n",
       "      <th>...</th>\n",
       "      <td>...</td>\n",
       "      <td>...</td>\n",
       "      <td>...</td>\n",
       "      <td>...</td>\n",
       "    </tr>\n",
       "    <tr>\n",
       "      <th>933980</th>\n",
       "      <td>3292126318</td>\n",
       "      <td>485374deda4cf2ca</td>\n",
       "      <td>2</td>\n",
       "      <td>(485374deda4cf2ca, 2)</td>\n",
       "    </tr>\n",
       "    <tr>\n",
       "      <th>933981</th>\n",
       "      <td>3292428724</td>\n",
       "      <td>cd661902b07eb657</td>\n",
       "      <td>7</td>\n",
       "      <td>(cd661902b07eb657, 7)</td>\n",
       "    </tr>\n",
       "    <tr>\n",
       "      <th>933982</th>\n",
       "      <td>3292535757</td>\n",
       "      <td>5cf81629ed750b3e</td>\n",
       "      <td>2</td>\n",
       "      <td>(5cf81629ed750b3e, 2)</td>\n",
       "    </tr>\n",
       "    <tr>\n",
       "      <th>933983</th>\n",
       "      <td>3292535757</td>\n",
       "      <td>fb6ce2a055a550b1</td>\n",
       "      <td>1</td>\n",
       "      <td>(fb6ce2a055a550b1, 1)</td>\n",
       "    </tr>\n",
       "    <tr>\n",
       "      <th>933984</th>\n",
       "      <td>3292637349</td>\n",
       "      <td>3acb748d0f1e9265</td>\n",
       "      <td>10</td>\n",
       "      <td>(3acb748d0f1e9265, 10)</td>\n",
       "    </tr>\n",
       "    <tr>\n",
       "      <th>933985</th>\n",
       "      <td>3292687331</td>\n",
       "      <td>5ed69453a20f2dcd</td>\n",
       "      <td>1</td>\n",
       "      <td>(5ed69453a20f2dcd, 1)</td>\n",
       "    </tr>\n",
       "    <tr>\n",
       "      <th>933986</th>\n",
       "      <td>3292801576</td>\n",
       "      <td>4cb84b806fae5001</td>\n",
       "      <td>9</td>\n",
       "      <td>(4cb84b806fae5001, 9)</td>\n",
       "    </tr>\n",
       "    <tr>\n",
       "      <th>933987</th>\n",
       "      <td>3293075950</td>\n",
       "      <td>3acb748d0f1e9265</td>\n",
       "      <td>4</td>\n",
       "      <td>(3acb748d0f1e9265, 4)</td>\n",
       "    </tr>\n",
       "    <tr>\n",
       "      <th>933988</th>\n",
       "      <td>3293100514</td>\n",
       "      <td>bbf6c74e4f26f23d</td>\n",
       "      <td>1</td>\n",
       "      <td>(bbf6c74e4f26f23d, 1)</td>\n",
       "    </tr>\n",
       "    <tr>\n",
       "      <th>933989</th>\n",
       "      <td>3293117584</td>\n",
       "      <td>0ed4046129c200d5</td>\n",
       "      <td>1</td>\n",
       "      <td>(0ed4046129c200d5, 1)</td>\n",
       "    </tr>\n",
       "    <tr>\n",
       "      <th>933990</th>\n",
       "      <td>3293117584</td>\n",
       "      <td>2c6882293dd8c78f</td>\n",
       "      <td>1</td>\n",
       "      <td>(2c6882293dd8c78f, 1)</td>\n",
       "    </tr>\n",
       "    <tr>\n",
       "      <th>933991</th>\n",
       "      <td>3293142585</td>\n",
       "      <td>6a366209bdc244ba</td>\n",
       "      <td>1</td>\n",
       "      <td>(6a366209bdc244ba, 1)</td>\n",
       "    </tr>\n",
       "    <tr>\n",
       "      <th>933992</th>\n",
       "      <td>3293279584</td>\n",
       "      <td>02f8961b9e47dba0</td>\n",
       "      <td>1</td>\n",
       "      <td>(02f8961b9e47dba0, 1)</td>\n",
       "    </tr>\n",
       "    <tr>\n",
       "      <th>933993</th>\n",
       "      <td>3293279584</td>\n",
       "      <td>068c70be7b3a4cc2</td>\n",
       "      <td>8</td>\n",
       "      <td>(068c70be7b3a4cc2, 8)</td>\n",
       "    </tr>\n",
       "    <tr>\n",
       "      <th>933994</th>\n",
       "      <td>3293279584</td>\n",
       "      <td>14b55a00390080d4</td>\n",
       "      <td>1</td>\n",
       "      <td>(14b55a00390080d4, 1)</td>\n",
       "    </tr>\n",
       "    <tr>\n",
       "      <th>933995</th>\n",
       "      <td>3293279584</td>\n",
       "      <td>7668b962a78513e6</td>\n",
       "      <td>1</td>\n",
       "      <td>(7668b962a78513e6, 1)</td>\n",
       "    </tr>\n",
       "    <tr>\n",
       "      <th>933996</th>\n",
       "      <td>3293396649</td>\n",
       "      <td>12d94b7e6304b54f</td>\n",
       "      <td>1</td>\n",
       "      <td>(12d94b7e6304b54f, 1)</td>\n",
       "    </tr>\n",
       "    <tr>\n",
       "      <th>933997</th>\n",
       "      <td>3293396649</td>\n",
       "      <td>1a2e2495ce6956f0</td>\n",
       "      <td>5</td>\n",
       "      <td>(1a2e2495ce6956f0, 5)</td>\n",
       "    </tr>\n",
       "    <tr>\n",
       "      <th>933998</th>\n",
       "      <td>3293884667</td>\n",
       "      <td>8b71e62b2c1d41de</td>\n",
       "      <td>3</td>\n",
       "      <td>(8b71e62b2c1d41de, 3)</td>\n",
       "    </tr>\n",
       "    <tr>\n",
       "      <th>933999</th>\n",
       "      <td>3294047141</td>\n",
       "      <td>6c07f3233c333f95</td>\n",
       "      <td>1</td>\n",
       "      <td>(6c07f3233c333f95, 1)</td>\n",
       "    </tr>\n",
       "    <tr>\n",
       "      <th>934000</th>\n",
       "      <td>3294088793</td>\n",
       "      <td>617279f8afc6ca87</td>\n",
       "      <td>1</td>\n",
       "      <td>(617279f8afc6ca87, 1)</td>\n",
       "    </tr>\n",
       "    <tr>\n",
       "      <th>934001</th>\n",
       "      <td>3294166018</td>\n",
       "      <td>d0f695e0f50be868</td>\n",
       "      <td>1</td>\n",
       "      <td>(d0f695e0f50be868, 1)</td>\n",
       "    </tr>\n",
       "    <tr>\n",
       "      <th>934002</th>\n",
       "      <td>3294199853</td>\n",
       "      <td>c3a6437e1b1a726d</td>\n",
       "      <td>1</td>\n",
       "      <td>(c3a6437e1b1a726d, 1)</td>\n",
       "    </tr>\n",
       "    <tr>\n",
       "      <th>934003</th>\n",
       "      <td>3294339994</td>\n",
       "      <td>a65c74c7f6c52ef7</td>\n",
       "      <td>1</td>\n",
       "      <td>(a65c74c7f6c52ef7, 1)</td>\n",
       "    </tr>\n",
       "    <tr>\n",
       "      <th>934004</th>\n",
       "      <td>3294472761</td>\n",
       "      <td>1d4e1f5605836450</td>\n",
       "      <td>1</td>\n",
       "      <td>(1d4e1f5605836450, 1)</td>\n",
       "    </tr>\n",
       "    <tr>\n",
       "      <th>934005</th>\n",
       "      <td>3294477178</td>\n",
       "      <td>1ec449abab9e0ec8</td>\n",
       "      <td>2</td>\n",
       "      <td>(1ec449abab9e0ec8, 2)</td>\n",
       "    </tr>\n",
       "    <tr>\n",
       "      <th>934006</th>\n",
       "      <td>3294489621</td>\n",
       "      <td>918ce1dd3c0b7eef</td>\n",
       "      <td>2</td>\n",
       "      <td>(918ce1dd3c0b7eef, 2)</td>\n",
       "    </tr>\n",
       "    <tr>\n",
       "      <th>934007</th>\n",
       "      <td>3294504819</td>\n",
       "      <td>d7e271cf342ec623</td>\n",
       "      <td>1</td>\n",
       "      <td>(d7e271cf342ec623, 1)</td>\n",
       "    </tr>\n",
       "    <tr>\n",
       "      <th>934008</th>\n",
       "      <td>3294949756</td>\n",
       "      <td>f354d910a9f4f0c1</td>\n",
       "      <td>1</td>\n",
       "      <td>(f354d910a9f4f0c1, 1)</td>\n",
       "    </tr>\n",
       "    <tr>\n",
       "      <th>934009</th>\n",
       "      <td>3295099421</td>\n",
       "      <td>2768ba80627a4e40</td>\n",
       "      <td>2</td>\n",
       "      <td>(2768ba80627a4e40, 2)</td>\n",
       "    </tr>\n",
       "  </tbody>\n",
       "</table>\n",
       "<p>934010 rows × 4 columns</p>\n",
       "</div>"
      ],
      "text/plain": [
       "            userId           placeId  twitternum               composite\n",
       "0              246  068c70be7b3a4cc2           2   (068c70be7b3a4cc2, 2)\n",
       "1              246  bcd0c4fcff4216c1           1   (bcd0c4fcff4216c1, 1)\n",
       "2              246  dd26be6f16473902           4   (dd26be6f16473902, 4)\n",
       "3              246  f22db8cc2a4d9dfb           8   (f22db8cc2a4d9dfb, 8)\n",
       "4              259  05f39a968c45748d           1   (05f39a968c45748d, 1)\n",
       "5              259  068c70be7b3a4cc2           3   (068c70be7b3a4cc2, 3)\n",
       "6              259  0ea7af39d11e19e7           1   (0ea7af39d11e19e7, 1)\n",
       "7              259  384df7b39fc369c8           1   (384df7b39fc369c8, 1)\n",
       "8              259  3acb748d0f1e9265           7   (3acb748d0f1e9265, 7)\n",
       "9              259  51ae948e08959af7           6   (51ae948e08959af7, 6)\n",
       "10             259  7fbd6b3c7c8e7687           2   (7fbd6b3c7c8e7687, 2)\n",
       "11             259  c3a6437e1b1a726d           1   (c3a6437e1b1a726d, 1)\n",
       "12             259  d634e9b0a9802b08           1   (d634e9b0a9802b08, 1)\n",
       "13             259  d9b5a7ae9b6959c2           1   (d9b5a7ae9b6959c2, 1)\n",
       "14             456  3acb748d0f1e9265           1   (3acb748d0f1e9265, 1)\n",
       "15             456  8b3e53628223753a           2   (8b3e53628223753a, 2)\n",
       "16             456  c3a6437e1b1a726d           3   (c3a6437e1b1a726d, 3)\n",
       "17             577  068c70be7b3a4cc2           1   (068c70be7b3a4cc2, 1)\n",
       "18             821  6c07f3233c333f95           1   (6c07f3233c333f95, 1)\n",
       "19             989  57d9b5e0a53e48e5           1   (57d9b5e0a53e48e5, 1)\n",
       "20            1013  9ddc9f475664c176          17  (9ddc9f475664c176, 17)\n",
       "21            1013  e38a1a641d02f8db           2   (e38a1a641d02f8db, 2)\n",
       "22            1068  c3a6437e1b1a726d           2   (c3a6437e1b1a726d, 2)\n",
       "23            1102  0412e98671147f93           2   (0412e98671147f93, 2)\n",
       "24            1102  3acb748d0f1e9265           4   (3acb748d0f1e9265, 4)\n",
       "25            1102  57d9b5e0a53e48e5           2   (57d9b5e0a53e48e5, 2)\n",
       "26            1102  db94c1cccc67c4f4           4   (db94c1cccc67c4f4, 4)\n",
       "27            1102  dc4e13302cc5ef12          22  (dc4e13302cc5ef12, 22)\n",
       "28            1140  068c70be7b3a4cc2           6   (068c70be7b3a4cc2, 6)\n",
       "29            1140  cef03d32ea5d9b59           2   (cef03d32ea5d9b59, 2)\n",
       "...            ...               ...         ...                     ...\n",
       "933980  3292126318  485374deda4cf2ca           2   (485374deda4cf2ca, 2)\n",
       "933981  3292428724  cd661902b07eb657           7   (cd661902b07eb657, 7)\n",
       "933982  3292535757  5cf81629ed750b3e           2   (5cf81629ed750b3e, 2)\n",
       "933983  3292535757  fb6ce2a055a550b1           1   (fb6ce2a055a550b1, 1)\n",
       "933984  3292637349  3acb748d0f1e9265          10  (3acb748d0f1e9265, 10)\n",
       "933985  3292687331  5ed69453a20f2dcd           1   (5ed69453a20f2dcd, 1)\n",
       "933986  3292801576  4cb84b806fae5001           9   (4cb84b806fae5001, 9)\n",
       "933987  3293075950  3acb748d0f1e9265           4   (3acb748d0f1e9265, 4)\n",
       "933988  3293100514  bbf6c74e4f26f23d           1   (bbf6c74e4f26f23d, 1)\n",
       "933989  3293117584  0ed4046129c200d5           1   (0ed4046129c200d5, 1)\n",
       "933990  3293117584  2c6882293dd8c78f           1   (2c6882293dd8c78f, 1)\n",
       "933991  3293142585  6a366209bdc244ba           1   (6a366209bdc244ba, 1)\n",
       "933992  3293279584  02f8961b9e47dba0           1   (02f8961b9e47dba0, 1)\n",
       "933993  3293279584  068c70be7b3a4cc2           8   (068c70be7b3a4cc2, 8)\n",
       "933994  3293279584  14b55a00390080d4           1   (14b55a00390080d4, 1)\n",
       "933995  3293279584  7668b962a78513e6           1   (7668b962a78513e6, 1)\n",
       "933996  3293396649  12d94b7e6304b54f           1   (12d94b7e6304b54f, 1)\n",
       "933997  3293396649  1a2e2495ce6956f0           5   (1a2e2495ce6956f0, 5)\n",
       "933998  3293884667  8b71e62b2c1d41de           3   (8b71e62b2c1d41de, 3)\n",
       "933999  3294047141  6c07f3233c333f95           1   (6c07f3233c333f95, 1)\n",
       "934000  3294088793  617279f8afc6ca87           1   (617279f8afc6ca87, 1)\n",
       "934001  3294166018  d0f695e0f50be868           1   (d0f695e0f50be868, 1)\n",
       "934002  3294199853  c3a6437e1b1a726d           1   (c3a6437e1b1a726d, 1)\n",
       "934003  3294339994  a65c74c7f6c52ef7           1   (a65c74c7f6c52ef7, 1)\n",
       "934004  3294472761  1d4e1f5605836450           1   (1d4e1f5605836450, 1)\n",
       "934005  3294477178  1ec449abab9e0ec8           2   (1ec449abab9e0ec8, 2)\n",
       "934006  3294489621  918ce1dd3c0b7eef           2   (918ce1dd3c0b7eef, 2)\n",
       "934007  3294504819  d7e271cf342ec623           1   (d7e271cf342ec623, 1)\n",
       "934008  3294949756  f354d910a9f4f0c1           1   (f354d910a9f4f0c1, 1)\n",
       "934009  3295099421  2768ba80627a4e40           2   (2768ba80627a4e40, 2)\n",
       "\n",
       "[934010 rows x 4 columns]"
      ]
     },
     "execution_count": 306,
     "metadata": {},
     "output_type": "execute_result"
    }
   ],
   "source": [
    "tmp"
   ]
  },
  {
   "cell_type": "code",
   "execution_count": null,
   "metadata": {
    "collapsed": true
   },
   "outputs": [],
   "source": [
    "user_x_residence_df['placeId'] = user_x_residence_df.apply(lambda x: ([i.x for i in x]), axis=1)"
   ]
  },
  {
   "cell_type": "code",
   "execution_count": 308,
   "metadata": {
    "collapsed": false
   },
   "outputs": [
    {
     "data": {
      "text/html": [
       "<div>\n",
       "<table border=\"1\" class=\"dataframe\">\n",
       "  <thead>\n",
       "    <tr style=\"text-align: right;\">\n",
       "      <th></th>\n",
       "      <th>composite</th>\n",
       "      <th>placeId</th>\n",
       "    </tr>\n",
       "    <tr>\n",
       "      <th>userId</th>\n",
       "      <th></th>\n",
       "      <th></th>\n",
       "    </tr>\n",
       "  </thead>\n",
       "  <tbody>\n",
       "    <tr>\n",
       "      <th>246</th>\n",
       "      <td>(f22db8cc2a4d9dfb, 8)</td>\n",
       "      <td>f22db8cc2a4d9dfb</td>\n",
       "    </tr>\n",
       "    <tr>\n",
       "      <th>259</th>\n",
       "      <td>(3acb748d0f1e9265, 7)</td>\n",
       "      <td>3acb748d0f1e9265</td>\n",
       "    </tr>\n",
       "    <tr>\n",
       "      <th>456</th>\n",
       "      <td>(c3a6437e1b1a726d, 3)</td>\n",
       "      <td>c3a6437e1b1a726d</td>\n",
       "    </tr>\n",
       "    <tr>\n",
       "      <th>577</th>\n",
       "      <td>(068c70be7b3a4cc2, 1)</td>\n",
       "      <td>068c70be7b3a4cc2</td>\n",
       "    </tr>\n",
       "    <tr>\n",
       "      <th>821</th>\n",
       "      <td>(6c07f3233c333f95, 1)</td>\n",
       "      <td>6c07f3233c333f95</td>\n",
       "    </tr>\n",
       "  </tbody>\n",
       "</table>\n",
       "</div>"
      ],
      "text/plain": [
       "                    composite           placeId\n",
       "userId                                         \n",
       "246     (f22db8cc2a4d9dfb, 8)  f22db8cc2a4d9dfb\n",
       "259     (3acb748d0f1e9265, 7)  3acb748d0f1e9265\n",
       "456     (c3a6437e1b1a726d, 3)  c3a6437e1b1a726d\n",
       "577     (068c70be7b3a4cc2, 1)  068c70be7b3a4cc2\n",
       "821     (6c07f3233c333f95, 1)  6c07f3233c333f95"
      ]
     },
     "execution_count": 308,
     "metadata": {},
     "output_type": "execute_result"
    }
   ],
   "source": [
    "user_x_residence_df.head()"
   ]
  },
  {
   "cell_type": "code",
   "execution_count": 310,
   "metadata": {
    "collapsed": false
   },
   "outputs": [],
   "source": [
    "user_x_residence_df['twitternum'] = user_x_residence_df[['composite']].apply(lambda x: ([i.y for i in x]), axis=1)"
   ]
  },
  {
   "cell_type": "code",
   "execution_count": 312,
   "metadata": {
    "collapsed": false
   },
   "outputs": [],
   "source": [
    "user_x_residence_df1 = user_x_residence_df[['placeId', 'twitternum']]"
   ]
  },
  {
   "cell_type": "code",
   "execution_count": 314,
   "metadata": {
    "collapsed": true
   },
   "outputs": [],
   "source": [
    "with open('data/twitter-swisscom/user_x_origin.pickle', 'wb') as f:\n",
    "    pickle.dump(user_x_residence_df1, f)"
   ]
  },
  {
   "cell_type": "markdown",
   "metadata": {},
   "source": [
    "The result shows that each user always post more twitter in specific place. We can guass the place is the user's home or workplace"
   ]
  },
  {
   "cell_type": "code",
   "execution_count": 111,
   "metadata": {
    "collapsed": false
   },
   "outputs": [],
   "source": [
    "with open('data/twitter-swisscom/pId_geo_df_total.pickle','rb') as g:\n",
    "    geo_info=pickle.load(g)"
   ]
  },
  {
   "cell_type": "code",
   "execution_count": 112,
   "metadata": {
    "collapsed": false
   },
   "outputs": [
    {
     "data": {
      "text/html": [
       "<div>\n",
       "<table border=\"1\" class=\"dataframe\">\n",
       "  <thead>\n",
       "    <tr style=\"text-align: right;\">\n",
       "      <th></th>\n",
       "      <th>geo</th>\n",
       "      <th>country_code</th>\n",
       "      <th>state</th>\n",
       "    </tr>\n",
       "    <tr>\n",
       "      <th>placeId</th>\n",
       "      <th></th>\n",
       "      <th></th>\n",
       "      <th></th>\n",
       "    </tr>\n",
       "  </thead>\n",
       "  <tbody>\n",
       "    <tr>\n",
       "      <th>000831c517105356</th>\n",
       "      <td>{'place_id': '123665764', 'address': {'road': ...</td>\n",
       "      <td>th</td>\n",
       "      <td>จังหวัดสกลนคร</td>\n",
       "    </tr>\n",
       "    <tr>\n",
       "      <th>000a93ad12003aaa</th>\n",
       "      <td>{'place_id': '153841798', 'address': {'road': ...</td>\n",
       "      <td>ch</td>\n",
       "      <td>Bern - Berne</td>\n",
       "    </tr>\n",
       "    <tr>\n",
       "      <th>000b5d1aada9dcaa</th>\n",
       "      <td>{'place_id': '140076767', 'address': {'road': ...</td>\n",
       "      <td>ch</td>\n",
       "      <td>Bern - Berne</td>\n",
       "    </tr>\n",
       "    <tr>\n",
       "      <th>0010c7694b04e371</th>\n",
       "      <td>{'place_id': '72566571', 'address': {'road': '...</td>\n",
       "      <td>ch</td>\n",
       "      <td>Zürich</td>\n",
       "    </tr>\n",
       "    <tr>\n",
       "      <th>0013241b7342de79</th>\n",
       "      <td>{'place_id': '10979747', 'address': {'road': '...</td>\n",
       "      <td>ch</td>\n",
       "      <td>Luzern</td>\n",
       "    </tr>\n",
       "  </tbody>\n",
       "</table>\n",
       "</div>"
      ],
      "text/plain": [
       "                                                                geo  \\\n",
       "placeId                                                               \n",
       "000831c517105356  {'place_id': '123665764', 'address': {'road': ...   \n",
       "000a93ad12003aaa  {'place_id': '153841798', 'address': {'road': ...   \n",
       "000b5d1aada9dcaa  {'place_id': '140076767', 'address': {'road': ...   \n",
       "0010c7694b04e371  {'place_id': '72566571', 'address': {'road': '...   \n",
       "0013241b7342de79  {'place_id': '10979747', 'address': {'road': '...   \n",
       "\n",
       "                 country_code          state  \n",
       "placeId                                       \n",
       "000831c517105356           th  จังหวัดสกลนคร  \n",
       "000a93ad12003aaa           ch   Bern - Berne  \n",
       "000b5d1aada9dcaa           ch   Bern - Berne  \n",
       "0010c7694b04e371           ch         Zürich  \n",
       "0013241b7342de79           ch         Luzern  "
      ]
     },
     "execution_count": 112,
     "metadata": {},
     "output_type": "execute_result"
    }
   ],
   "source": [
    "geo_info.head()"
   ]
  },
  {
   "cell_type": "markdown",
   "metadata": {},
   "source": [
    "comparation of different language region's post number"
   ]
  },
  {
   "cell_type": "code",
   "execution_count": 198,
   "metadata": {
    "collapsed": false
   },
   "outputs": [],
   "source": [
    "twitter_num_pid=twitter_info.groupby(['placeId'])[['twitternum']].count()"
   ]
  },
  {
   "cell_type": "code",
   "execution_count": 199,
   "metadata": {
    "collapsed": true
   },
   "outputs": [],
   "source": [
    "geo_list=[twitter_num_pid,geo_info]\n",
    "twitter_geo=pd.concat(geo_list,axis=1)"
   ]
  },
  {
   "cell_type": "code",
   "execution_count": 215,
   "metadata": {
    "collapsed": false
   },
   "outputs": [],
   "source": [
    "twitter_swiss=twitter_geo[twitter_geo['country_code']=='ch']"
   ]
  },
  {
   "cell_type": "code",
   "execution_count": 235,
   "metadata": {
    "collapsed": false
   },
   "outputs": [
    {
     "data": {
      "text/html": [
       "<div>\n",
       "<table border=\"1\" class=\"dataframe\">\n",
       "  <thead>\n",
       "    <tr style=\"text-align: right;\">\n",
       "      <th></th>\n",
       "      <th>twitternum</th>\n",
       "      <th>geo</th>\n",
       "      <th>country_code</th>\n",
       "      <th>state</th>\n",
       "      <th>state_id</th>\n",
       "      <th>language</th>\n",
       "    </tr>\n",
       "  </thead>\n",
       "  <tbody>\n",
       "    <tr>\n",
       "      <th>000a93ad12003aaa</th>\n",
       "      <td>3525</td>\n",
       "      <td>{'lon': '7.5100197', 'place_id': '153841798', ...</td>\n",
       "      <td>ch</td>\n",
       "      <td>Bern - Berne</td>\n",
       "      <td>BE</td>\n",
       "      <td>German</td>\n",
       "    </tr>\n",
       "    <tr>\n",
       "      <th>000b5d1aada9dcaa</th>\n",
       "      <td>46</td>\n",
       "      <td>{'lon': '7.44578927095059', 'place_id': '14007...</td>\n",
       "      <td>ch</td>\n",
       "      <td>Bern - Berne</td>\n",
       "      <td>BE</td>\n",
       "      <td>German</td>\n",
       "    </tr>\n",
       "    <tr>\n",
       "      <th>0010c7694b04e371</th>\n",
       "      <td>2</td>\n",
       "      <td>{'lon': '8.50580530903368', 'place_id': '72566...</td>\n",
       "      <td>ch</td>\n",
       "      <td>Zürich</td>\n",
       "      <td>ZH</td>\n",
       "      <td>German</td>\n",
       "    </tr>\n",
       "    <tr>\n",
       "      <th>0013241b7342de79</th>\n",
       "      <td>8</td>\n",
       "      <td>{'lon': '8.3072505', 'place_id': '10979747', '...</td>\n",
       "      <td>ch</td>\n",
       "      <td>Luzern</td>\n",
       "      <td>LU</td>\n",
       "      <td>German</td>\n",
       "    </tr>\n",
       "    <tr>\n",
       "      <th>001f36ac315b333e</th>\n",
       "      <td>2</td>\n",
       "      <td>{'lon': '7.4616478', 'place_id': '50491718', '...</td>\n",
       "      <td>ch</td>\n",
       "      <td>Bern - Berne</td>\n",
       "      <td>BE</td>\n",
       "      <td>German</td>\n",
       "    </tr>\n",
       "  </tbody>\n",
       "</table>\n",
       "</div>"
      ],
      "text/plain": [
       "                  twitternum  \\\n",
       "000a93ad12003aaa        3525   \n",
       "000b5d1aada9dcaa          46   \n",
       "0010c7694b04e371           2   \n",
       "0013241b7342de79           8   \n",
       "001f36ac315b333e           2   \n",
       "\n",
       "                                                                geo  \\\n",
       "000a93ad12003aaa  {'lon': '7.5100197', 'place_id': '153841798', ...   \n",
       "000b5d1aada9dcaa  {'lon': '7.44578927095059', 'place_id': '14007...   \n",
       "0010c7694b04e371  {'lon': '8.50580530903368', 'place_id': '72566...   \n",
       "0013241b7342de79  {'lon': '8.3072505', 'place_id': '10979747', '...   \n",
       "001f36ac315b333e  {'lon': '7.4616478', 'place_id': '50491718', '...   \n",
       "\n",
       "                 country_code         state state_id language  \n",
       "000a93ad12003aaa           ch  Bern - Berne       BE   German  \n",
       "000b5d1aada9dcaa           ch  Bern - Berne       BE   German  \n",
       "0010c7694b04e371           ch        Zürich       ZH   German  \n",
       "0013241b7342de79           ch        Luzern       LU   German  \n",
       "001f36ac315b333e           ch  Bern - Berne       BE   German  "
      ]
     },
     "execution_count": 235,
     "metadata": {},
     "output_type": "execute_result"
    }
   ],
   "source": [
    "twitter_swiss.head()"
   ]
  },
  {
   "cell_type": "code",
   "execution_count": 207,
   "metadata": {
    "collapsed": true
   },
   "outputs": [],
   "source": [
    "map_canton_name_to_abb = dict()\n",
    "map_canton_name_to_abb['Genève'] = 'GE'\n",
    "map_canton_name_to_abb['Basel-Stadt'] = 'BS'\n",
    "map_canton_name_to_abb['Fribourg - Freiburg'] = 'FR'\n",
    "map_canton_name_to_abb['Vaud'] = 'VD'\n",
    "map_canton_name_to_abb['Bern - Berne'] = 'BE'\n",
    "map_canton_name_to_abb['Neuchâtel'] = 'NE'\n",
    "map_canton_name_to_abb['Sankt Gallen'] = 'SG'\n",
    "map_canton_name_to_abb['Graubünden - Grigioni - Grischun'] = 'GR'\n",
    "map_canton_name_to_abb['Luzern'] = 'LU'\n",
    "map_canton_name_to_abb['Ticino'] = 'TI'\n",
    "map_canton_name_to_abb['Jura'] = 'JU'\n",
    "map_canton_name_to_abb['Schwyz'] = 'SZ'\n",
    "map_canton_name_to_abb['Aargau'] = 'AG'\n",
    "map_canton_name_to_abb['Basel-Landschaft'] = 'BL'\n",
    "map_canton_name_to_abb['Valais - Wallis'] = 'VS'\n",
    "map_canton_name_to_abb['Thurgau'] = 'TG'\n",
    "map_canton_name_to_abb['Schaffhausen'] = 'SH'\n",
    "map_canton_name_to_abb['Zug'] = 'ZG'\n",
    "map_canton_name_to_abb['Zürich'] = 'ZH'\n",
    "map_canton_name_to_abb['Solothurn'] = 'SO'\n",
    "map_canton_name_to_abb['Nidwalden'] = 'NI'\n",
    "map_canton_name_to_abb['Appenzell Innerrhoden'] = 'AI'\n",
    "map_canton_name_to_abb['Obwalden'] = 'OB'\n",
    "map_canton_name_to_abb['Glarus'] = 'GL'\n",
    "map_canton_name_to_abb['Uri'] = 'UR'\n",
    "map_canton_name_to_abb['Appenzell Ausserrhoden'] = 'AA'"
   ]
  },
  {
   "cell_type": "code",
   "execution_count": 225,
   "metadata": {
    "collapsed": false
   },
   "outputs": [],
   "source": [
    "dic_language = {\"AG\":'German',\"BL\":'German',\"BS\":'German',\"BE\":'German',\n",
    "                \"FR\":'German,French',\"GE\":'French', \"JU\":'French',\"LU\":'German',\n",
    "                \"NE\":'French',\"SG\":'German',\"SH\":'German',\"VS\":'German,French', 'SZ':'German',\n",
    "                'TG':'German',\"GR\":'German',\"TI\":'German',\n",
    "                \"VD\":'French',\"ZG\":'German',\"ZH\":'German',\"SO\":'German',\"NI\":'German',\"AI\":'German',\"OB\":'German',\"GL\":'German',\"UR\":'German',\"AA\":'German'}"
   ]
  },
  {
   "cell_type": "code",
   "execution_count": 240,
   "metadata": {
    "collapsed": false,
    "scrolled": true
   },
   "outputs": [
    {
     "name": "stderr",
     "output_type": "stream",
     "text": [
      "/Users/lcav/anaconda/lib/python3.5/site-packages/ipykernel/__main__.py:1: SettingWithCopyWarning: \n",
      "A value is trying to be set on a copy of a slice from a DataFrame\n",
      "\n",
      "See the caveats in the documentation: http://pandas.pydata.org/pandas-docs/stable/indexing.html#indexing-view-versus-copy\n",
      "  if __name__ == '__main__':\n"
     ]
    }
   ],
   "source": [
    "twitter_swiss['state_id'] = twitter_swiss['state'].map(map_canton_name_to_abb)"
   ]
  },
  {
   "cell_type": "code",
   "execution_count": 227,
   "metadata": {
    "collapsed": false,
    "scrolled": true
   },
   "outputs": [
    {
     "name": "stderr",
     "output_type": "stream",
     "text": [
      "/Users/lcav/anaconda/lib/python3.5/site-packages/ipykernel/__main__.py:1: SettingWithCopyWarning: \n",
      "A value is trying to be set on a copy of a slice from a DataFrame.\n",
      "Try using .loc[row_indexer,col_indexer] = value instead\n",
      "\n",
      "See the caveats in the documentation: http://pandas.pydata.org/pandas-docs/stable/indexing.html#indexing-view-versus-copy\n",
      "  if __name__ == '__main__':\n"
     ]
    }
   ],
   "source": [
    "twitter_swiss['language']=twitter_swiss['state_id'].map(dic_language)"
   ]
  },
  {
   "cell_type": "code",
   "execution_count": 236,
   "metadata": {
    "collapsed": false,
    "scrolled": true
   },
   "outputs": [
    {
     "data": {
      "text/html": [
       "<div>\n",
       "<table border=\"1\" class=\"dataframe\">\n",
       "  <thead>\n",
       "    <tr style=\"text-align: right;\">\n",
       "      <th></th>\n",
       "      <th>twitternum</th>\n",
       "      <th>geo</th>\n",
       "      <th>country_code</th>\n",
       "      <th>state</th>\n",
       "      <th>state_id</th>\n",
       "      <th>language</th>\n",
       "    </tr>\n",
       "  </thead>\n",
       "  <tbody>\n",
       "    <tr>\n",
       "      <th>000a93ad12003aaa</th>\n",
       "      <td>3525</td>\n",
       "      <td>{'lon': '7.5100197', 'place_id': '153841798', ...</td>\n",
       "      <td>ch</td>\n",
       "      <td>Bern - Berne</td>\n",
       "      <td>BE</td>\n",
       "      <td>German</td>\n",
       "    </tr>\n",
       "    <tr>\n",
       "      <th>000b5d1aada9dcaa</th>\n",
       "      <td>46</td>\n",
       "      <td>{'lon': '7.44578927095059', 'place_id': '14007...</td>\n",
       "      <td>ch</td>\n",
       "      <td>Bern - Berne</td>\n",
       "      <td>BE</td>\n",
       "      <td>German</td>\n",
       "    </tr>\n",
       "    <tr>\n",
       "      <th>0010c7694b04e371</th>\n",
       "      <td>2</td>\n",
       "      <td>{'lon': '8.50580530903368', 'place_id': '72566...</td>\n",
       "      <td>ch</td>\n",
       "      <td>Zürich</td>\n",
       "      <td>ZH</td>\n",
       "      <td>German</td>\n",
       "    </tr>\n",
       "    <tr>\n",
       "      <th>0013241b7342de79</th>\n",
       "      <td>8</td>\n",
       "      <td>{'lon': '8.3072505', 'place_id': '10979747', '...</td>\n",
       "      <td>ch</td>\n",
       "      <td>Luzern</td>\n",
       "      <td>LU</td>\n",
       "      <td>German</td>\n",
       "    </tr>\n",
       "    <tr>\n",
       "      <th>001f36ac315b333e</th>\n",
       "      <td>2</td>\n",
       "      <td>{'lon': '7.4616478', 'place_id': '50491718', '...</td>\n",
       "      <td>ch</td>\n",
       "      <td>Bern - Berne</td>\n",
       "      <td>BE</td>\n",
       "      <td>German</td>\n",
       "    </tr>\n",
       "  </tbody>\n",
       "</table>\n",
       "</div>"
      ],
      "text/plain": [
       "                  twitternum  \\\n",
       "000a93ad12003aaa        3525   \n",
       "000b5d1aada9dcaa          46   \n",
       "0010c7694b04e371           2   \n",
       "0013241b7342de79           8   \n",
       "001f36ac315b333e           2   \n",
       "\n",
       "                                                                geo  \\\n",
       "000a93ad12003aaa  {'lon': '7.5100197', 'place_id': '153841798', ...   \n",
       "000b5d1aada9dcaa  {'lon': '7.44578927095059', 'place_id': '14007...   \n",
       "0010c7694b04e371  {'lon': '8.50580530903368', 'place_id': '72566...   \n",
       "0013241b7342de79  {'lon': '8.3072505', 'place_id': '10979747', '...   \n",
       "001f36ac315b333e  {'lon': '7.4616478', 'place_id': '50491718', '...   \n",
       "\n",
       "                 country_code         state state_id language  \n",
       "000a93ad12003aaa           ch  Bern - Berne       BE   German  \n",
       "000b5d1aada9dcaa           ch  Bern - Berne       BE   German  \n",
       "0010c7694b04e371           ch        Zürich       ZH   German  \n",
       "0013241b7342de79           ch        Luzern       LU   German  \n",
       "001f36ac315b333e           ch  Bern - Berne       BE   German  "
      ]
     },
     "execution_count": 236,
     "metadata": {},
     "output_type": "execute_result"
    }
   ],
   "source": [
    "twitter_swiss.head()"
   ]
  },
  {
   "cell_type": "code",
   "execution_count": 232,
   "metadata": {
    "collapsed": false
   },
   "outputs": [],
   "source": [
    "twitter_number_on_language=twitter_swiss.groupby(['language'])[['twitternum']].sum()"
   ]
  },
  {
   "cell_type": "code",
   "execution_count": 233,
   "metadata": {
    "collapsed": false
   },
   "outputs": [
    {
     "data": {
      "text/html": [
       "<div>\n",
       "<table border=\"1\" class=\"dataframe\">\n",
       "  <thead>\n",
       "    <tr style=\"text-align: right;\">\n",
       "      <th></th>\n",
       "      <th>twitternum</th>\n",
       "    </tr>\n",
       "    <tr>\n",
       "      <th>language</th>\n",
       "      <th></th>\n",
       "    </tr>\n",
       "  </thead>\n",
       "  <tbody>\n",
       "    <tr>\n",
       "      <th>French</th>\n",
       "      <td>6692697</td>\n",
       "    </tr>\n",
       "    <tr>\n",
       "      <th>German</th>\n",
       "      <td>4811814</td>\n",
       "    </tr>\n",
       "    <tr>\n",
       "      <th>German,French</th>\n",
       "      <td>1199022</td>\n",
       "    </tr>\n",
       "  </tbody>\n",
       "</table>\n",
       "</div>"
      ],
      "text/plain": [
       "               twitternum\n",
       "language                 \n",
       "French            6692697\n",
       "German            4811814\n",
       "German,French     1199022"
      ]
     },
     "execution_count": 233,
     "metadata": {},
     "output_type": "execute_result"
    }
   ],
   "source": [
    "twitter_number_on_language"
   ]
  },
  {
   "cell_type": "code",
   "execution_count": 241,
   "metadata": {
    "collapsed": true
   },
   "outputs": [],
   "source": [
    "with open('data/twitter-swisscom/language.pickle','wb') as gg:\n",
    "    pickle.dump(twitter_number_on_language,gg)  "
   ]
  },
  {
   "cell_type": "code",
   "execution_count": 4,
   "metadata": {
    "collapsed": true
   },
   "outputs": [],
   "source": [
    "with open('data/twitter-swisscom/language.pickle','rb') as gg:\n",
    "    a = pickle.load(gg)  "
   ]
  },
  {
   "cell_type": "markdown",
   "metadata": {},
   "source": [
    "The result shows that the French-speaking region posted more twitter than German-speaking region"
   ]
  },
  {
   "cell_type": "markdown",
   "metadata": {},
   "source": [
    "divided user into 2 type by posted number of twitter every year. If the number bigger than 100, we considered the user as a twitter lover and set the 'usertype' as 1,otherwise we considered the person as ordinary twitter participant and set the 'usertype' as 0."
   ]
  },
  {
   "cell_type": "code",
   "execution_count": 97,
   "metadata": {
    "collapsed": false
   },
   "outputs": [],
   "source": [
    "import time\n",
    "t = time.time()"
   ]
  },
  {
   "cell_type": "code",
   "execution_count": 98,
   "metadata": {
    "collapsed": true
   },
   "outputs": [],
   "source": [
    "twitter_info['time'] = twitter_info['createdAt'].apply(lambda x: pd.Timestamp(x).to_pydatetime())"
   ]
  },
  {
   "cell_type": "code",
   "execution_count": 187,
   "metadata": {
    "collapsed": false
   },
   "outputs": [],
   "source": [
    "twitter_info['year'] = twitter_info['time'].apply(lambda x: x.year)"
   ]
  },
  {
   "cell_type": "code",
   "execution_count": 128,
   "metadata": {
    "collapsed": false,
    "scrolled": true
   },
   "outputs": [],
   "source": [
    "twitter_year=twitter_info.groupby(['userId','year'])[['twitternum']].count()\n",
    "twitter_aver_year=twitter_year.mean(level=0)"
   ]
  },
  {
   "cell_type": "code",
   "execution_count": 134,
   "metadata": {
    "collapsed": false,
    "scrolled": true
   },
   "outputs": [
    {
     "name": "stderr",
     "output_type": "stream",
     "text": [
      "/Users/lcav/anaconda/lib/python3.5/site-packages/ipykernel/__main__.py:2: SettingWithCopyWarning: \n",
      "A value is trying to be set on a copy of a slice from a DataFrame.\n",
      "Try using .loc[row_indexer,col_indexer] = value instead\n",
      "\n",
      "See the caveats in the documentation: http://pandas.pydata.org/pandas-docs/stable/indexing.html#indexing-view-versus-copy\n",
      "  from ipykernel import kernelapp as app\n",
      "/Users/lcav/anaconda/lib/python3.5/site-packages/ipykernel/__main__.py:4: SettingWithCopyWarning: \n",
      "A value is trying to be set on a copy of a slice from a DataFrame.\n",
      "Try using .loc[row_indexer,col_indexer] = value instead\n",
      "\n",
      "See the caveats in the documentation: http://pandas.pydata.org/pandas-docs/stable/indexing.html#indexing-view-versus-copy\n"
     ]
    }
   ],
   "source": [
    "twitter_lover=twitter_aver_year[twitter_aver_year['twitternum']>100]\n",
    "twitter_lover['usertype']=1\n",
    "twitter_parti=twitter_aver_year[twitter_aver_year['twitternum']<=100]\n",
    "twitter_parti['usertype']=0"
   ]
  },
  {
   "cell_type": "code",
   "execution_count": 140,
   "metadata": {
    "collapsed": false
   },
   "outputs": [],
   "source": [
    "user_list=[twitter_lover,twitter_parti]\n",
    "twitter_user_type=pd.concat(user_list)\n",
    "del twitter_user_type['twitternum']"
   ]
  },
  {
   "cell_type": "code",
   "execution_count": 6,
   "metadata": {
    "collapsed": true
   },
   "outputs": [],
   "source": [
    "with open('data/twitter-swisscom/twitter_usertype.pickle','rb') as gg:\n",
    "    a = pickle.load(gg)  "
   ]
  },
  {
   "cell_type": "code",
   "execution_count": 12,
   "metadata": {
    "collapsed": false,
    "scrolled": false
   },
   "outputs": [
    {
     "data": {
      "text/html": [
       "<div>\n",
       "<table border=\"1\" class=\"dataframe\">\n",
       "  <thead>\n",
       "    <tr style=\"text-align: right;\">\n",
       "      <th></th>\n",
       "      <th>usertype</th>\n",
       "    </tr>\n",
       "  </thead>\n",
       "  <tbody>\n",
       "    <tr>\n",
       "      <th>count</th>\n",
       "      <td>360380.000000</td>\n",
       "    </tr>\n",
       "    <tr>\n",
       "      <th>mean</th>\n",
       "      <td>0.039053</td>\n",
       "    </tr>\n",
       "    <tr>\n",
       "      <th>std</th>\n",
       "      <td>0.193722</td>\n",
       "    </tr>\n",
       "    <tr>\n",
       "      <th>min</th>\n",
       "      <td>0.000000</td>\n",
       "    </tr>\n",
       "    <tr>\n",
       "      <th>25%</th>\n",
       "      <td>0.000000</td>\n",
       "    </tr>\n",
       "    <tr>\n",
       "      <th>50%</th>\n",
       "      <td>0.000000</td>\n",
       "    </tr>\n",
       "    <tr>\n",
       "      <th>75%</th>\n",
       "      <td>0.000000</td>\n",
       "    </tr>\n",
       "    <tr>\n",
       "      <th>max</th>\n",
       "      <td>1.000000</td>\n",
       "    </tr>\n",
       "  </tbody>\n",
       "</table>\n",
       "</div>"
      ],
      "text/plain": [
       "            usertype\n",
       "count  360380.000000\n",
       "mean        0.039053\n",
       "std         0.193722\n",
       "min         0.000000\n",
       "25%         0.000000\n",
       "50%         0.000000\n",
       "75%         0.000000\n",
       "max         1.000000"
      ]
     },
     "execution_count": 12,
     "metadata": {},
     "output_type": "execute_result"
    }
   ],
   "source": [
    "a"
   ]
  }
 ],
 "metadata": {
  "anaconda-cloud": {},
  "kernelspec": {
   "display_name": "Python 3",
   "language": "python",
   "name": "python3"
  },
  "language_info": {
   "codemirror_mode": {
    "name": "ipython",
    "version": 3
   },
   "file_extension": ".py",
   "mimetype": "text/x-python",
   "name": "python",
   "nbconvert_exporter": "python",
   "pygments_lexer": "ipython3",
   "version": "3.5.2"
  }
 },
 "nbformat": 4,
 "nbformat_minor": 1
}
