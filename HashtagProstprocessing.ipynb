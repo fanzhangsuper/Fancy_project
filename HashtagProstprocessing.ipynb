{
 "cells": [
  {
   "cell_type": "markdown",
   "metadata": {},
   "source": [
    "# Hashtags with geo/time information for ploting"
   ]
  },
  {
   "cell_type": "markdown",
   "metadata": {},
   "source": [
    "This ipython notebook is used to add hashtag information to geo/time dataframe."
   ]
  },
  {
   "cell_type": "code",
   "execution_count": 1,
   "metadata": {
    "collapsed": true
   },
   "outputs": [],
   "source": [
    "import pandas as pd\n",
    "import csv\n",
    "import numpy as np\n",
    "import matplotlib.pyplot as plt\n",
    "import json\n",
    "%load_ext autoreload\n",
    "%autoreload 2\n",
    "%matplotlib inline"
   ]
  },
  {
   "cell_type": "code",
   "execution_count": 2,
   "metadata": {
    "collapsed": true
   },
   "outputs": [],
   "source": [
    "import time\n",
    "import pickle\n",
    "import os"
   ]
  },
  {
   "cell_type": "code",
   "execution_count": 3,
   "metadata": {
    "collapsed": true
   },
   "outputs": [],
   "source": [
    "with open(\"data/twitter-swisscom/geo_info_total.pickle\", \"rb\") as f:\n",
    "    geo_info_total = pickle.load(f)"
   ]
  },
  {
   "cell_type": "code",
   "execution_count": 4,
   "metadata": {
    "collapsed": true
   },
   "outputs": [],
   "source": [
    "with open(\"data/twitter-swisscom/twitter_tag_20140102.pickle\", \"rb\") as f:\n",
    "    twitter_tag = pickle.load(f)"
   ]
  },
  {
   "cell_type": "code",
   "execution_count": 5,
   "metadata": {
    "collapsed": true
   },
   "outputs": [],
   "source": [
    "from collections import defaultdict\n",
    "def convert_upper_to_lower_in_dict(d):\n",
    "    r = defaultdict(int)\n",
    "    for k, v in d.items():\n",
    "        r[k.lower()] += v\n",
    "        \n",
    "    return r"
   ]
  },
  {
   "cell_type": "code",
   "execution_count": 6,
   "metadata": {
    "collapsed": true
   },
   "outputs": [],
   "source": [
    "twitter_tag['tag_freq'] = twitter_tag['tag_freq'].apply(lambda x: convert_upper_to_lower_in_dict(x))"
   ]
  },
  {
   "cell_type": "code",
   "execution_count": 7,
   "metadata": {
    "collapsed": false
   },
   "outputs": [],
   "source": [
    "from collections import Counter\n",
    "all_tags_count = sum((Counter(dict(x)) for x in twitter_tag['tag_freq']),Counter())"
   ]
  },
  {
   "cell_type": "markdown",
   "metadata": {},
   "source": [
    "We only choose the top hashtags (expect empty hashtags)"
   ]
  },
  {
   "cell_type": "code",
   "execution_count": 9,
   "metadata": {
    "collapsed": false
   },
   "outputs": [],
   "source": [
    "top_hash_tags = sorted(all_tags_count.items(), key=lambda t: -t[1])[:13]\n",
    "del top_hash_tags[7]"
   ]
  },
  {
   "cell_type": "markdown",
   "metadata": {},
   "source": [
    "only keeps these items"
   ]
  },
  {
   "cell_type": "code",
   "execution_count": 10,
   "metadata": {
    "collapsed": true
   },
   "outputs": [],
   "source": [
    "def filter_top_hash_tags(d):\n",
    "    r = {k: v for k, v in d.items() if k in dict(top_hash_tags).keys()}\n",
    "    return r # sorted(r.items(), key=lambda t: -t[1])"
   ]
  },
  {
   "cell_type": "code",
   "execution_count": 11,
   "metadata": {
    "collapsed": false
   },
   "outputs": [],
   "source": [
    "twitter_tag['tag_freq'] = twitter_tag['tag_freq'].apply(lambda x: filter_top_hash_tags(x))"
   ]
  },
  {
   "cell_type": "code",
   "execution_count": 12,
   "metadata": {
    "collapsed": false
   },
   "outputs": [],
   "source": [
    "processed_twitter_tag = twitter_tag[twitter_tag['tag_freq'].apply(lambda x: len(x) > 0)]"
   ]
  },
  {
   "cell_type": "code",
   "execution_count": 13,
   "metadata": {
    "collapsed": false
   },
   "outputs": [],
   "source": [
    "pivoted_tw_tags = processed_twitter_tag.reset_index('hour').pivot( values='tag_freq', columns='hour')"
   ]
  },
  {
   "cell_type": "code",
   "execution_count": 14,
   "metadata": {
    "collapsed": false
   },
   "outputs": [],
   "source": [
    "pivoted_tw_tags = pd.merge(pivoted_tw_tags.reset_index(), geo_info_total, on='placeId', how='left')"
   ]
  },
  {
   "cell_type": "code",
   "execution_count": 16,
   "metadata": {
    "collapsed": false
   },
   "outputs": [],
   "source": [
    "pivoted_tw_tags[(pivoted_tw_tags.placeId == 'ff8ee52edf03e6bd') | \n",
    "                (pivoted_tw_tags.placeId == \"fc58a3476b706856\")].to_csv(\"web/tw_tags.csv\")"
   ]
  },
  {
   "cell_type": "code",
   "execution_count": 17,
   "metadata": {
    "collapsed": false,
    "scrolled": true
   },
   "outputs": [
    {
     "data": {
      "text/html": [
       "<div>\n",
       "<table border=\"1\" class=\"dataframe\">\n",
       "  <thead>\n",
       "    <tr style=\"text-align: right;\">\n",
       "      <th></th>\n",
       "      <th>placeId</th>\n",
       "      <th>0</th>\n",
       "      <th>1</th>\n",
       "      <th>3</th>\n",
       "      <th>4</th>\n",
       "      <th>7</th>\n",
       "      <th>8</th>\n",
       "      <th>9</th>\n",
       "      <th>11</th>\n",
       "      <th>13</th>\n",
       "      <th>...</th>\n",
       "      <th>16</th>\n",
       "      <th>17</th>\n",
       "      <th>18</th>\n",
       "      <th>19</th>\n",
       "      <th>20</th>\n",
       "      <th>21</th>\n",
       "      <th>22</th>\n",
       "      <th>23</th>\n",
       "      <th>placeLatitude</th>\n",
       "      <th>placeLongitude</th>\n",
       "    </tr>\n",
       "  </thead>\n",
       "  <tbody>\n",
       "    <tr>\n",
       "      <th>108</th>\n",
       "      <td>fc58a3476b706856</td>\n",
       "      <td>None</td>\n",
       "      <td>None</td>\n",
       "      <td>None</td>\n",
       "      <td>None</td>\n",
       "      <td>None</td>\n",
       "      <td>None</td>\n",
       "      <td>None</td>\n",
       "      <td>None</td>\n",
       "      <td>None</td>\n",
       "      <td>...</td>\n",
       "      <td>{'#sherlock': 1, '#newyearrocks': 68}</td>\n",
       "      <td>{'#awesome': 1, '#sherlock': 1, '#amazing': 1,...</td>\n",
       "      <td>{'#awesome': 1, '#sherlock': 3, '#winterclassi...</td>\n",
       "      <td>{'#justloveit': 1, '#sherlocklives': 1, '#newy...</td>\n",
       "      <td>{'#awesome': 2, '#2014': 1, '#newyearrocks': 3...</td>\n",
       "      <td>None</td>\n",
       "      <td>{'#justloveit': 1}</td>\n",
       "      <td>None</td>\n",
       "      <td>47.7258</td>\n",
       "      <td>8.63805</td>\n",
       "    </tr>\n",
       "    <tr>\n",
       "      <th>109</th>\n",
       "      <td>ff8ee52edf03e6bd</td>\n",
       "      <td>None</td>\n",
       "      <td>None</td>\n",
       "      <td>None</td>\n",
       "      <td>None</td>\n",
       "      <td>None</td>\n",
       "      <td>None</td>\n",
       "      <td>None</td>\n",
       "      <td>None</td>\n",
       "      <td>{'#justloveit': 1}</td>\n",
       "      <td>...</td>\n",
       "      <td>{'#happynewyear': 1, '#hgtvnewyear': 1, '#just...</td>\n",
       "      <td>{'#winterclassic': 1, '#sherlocklives': 1, '#n...</td>\n",
       "      <td>{'#sherlock': 2, '#hgtvnewyear': 1, '#wintercl...</td>\n",
       "      <td>{'#2014': 1, '#winterclassic': 1, '#justloveit...</td>\n",
       "      <td>{'#awesome': 1, '#happynewyear': 1, '#wintercl...</td>\n",
       "      <td>{'#justloveit': 2}</td>\n",
       "      <td>None</td>\n",
       "      <td>{'#justloveit': 1}</td>\n",
       "      <td>46.0509</td>\n",
       "      <td>9.19546</td>\n",
       "    </tr>\n",
       "  </tbody>\n",
       "</table>\n",
       "<p>2 rows × 22 columns</p>\n",
       "</div>"
      ],
      "text/plain": [
       "              placeId     0     1     3     4     7     8     9    11  \\\n",
       "108  fc58a3476b706856  None  None  None  None  None  None  None  None   \n",
       "109  ff8ee52edf03e6bd  None  None  None  None  None  None  None  None   \n",
       "\n",
       "                     13      ...        \\\n",
       "108                None      ...         \n",
       "109  {'#justloveit': 1}      ...         \n",
       "\n",
       "                                                    16  \\\n",
       "108              {'#sherlock': 1, '#newyearrocks': 68}   \n",
       "109  {'#happynewyear': 1, '#hgtvnewyear': 1, '#just...   \n",
       "\n",
       "                                                    17  \\\n",
       "108  {'#awesome': 1, '#sherlock': 1, '#amazing': 1,...   \n",
       "109  {'#winterclassic': 1, '#sherlocklives': 1, '#n...   \n",
       "\n",
       "                                                    18  \\\n",
       "108  {'#awesome': 1, '#sherlock': 3, '#winterclassi...   \n",
       "109  {'#sherlock': 2, '#hgtvnewyear': 1, '#wintercl...   \n",
       "\n",
       "                                                    19  \\\n",
       "108  {'#justloveit': 1, '#sherlocklives': 1, '#newy...   \n",
       "109  {'#2014': 1, '#winterclassic': 1, '#justloveit...   \n",
       "\n",
       "                                                    20                  21  \\\n",
       "108  {'#awesome': 2, '#2014': 1, '#newyearrocks': 3...                None   \n",
       "109  {'#awesome': 1, '#happynewyear': 1, '#wintercl...  {'#justloveit': 2}   \n",
       "\n",
       "                     22                  23 placeLatitude placeLongitude  \n",
       "108  {'#justloveit': 1}                None       47.7258        8.63805  \n",
       "109                None  {'#justloveit': 1}       46.0509        9.19546  \n",
       "\n",
       "[2 rows x 22 columns]"
      ]
     },
     "execution_count": 17,
     "metadata": {},
     "output_type": "execute_result"
    }
   ],
   "source": [
    "d = pivoted_tw_tags[(pivoted_tw_tags.placeId == 'ff8ee52edf03e6bd') | (pivoted_tw_tags.placeId == \"fc58a3476b706856\")]\n",
    "d"
   ]
  },
  {
   "cell_type": "code",
   "execution_count": 19,
   "metadata": {
    "collapsed": false
   },
   "outputs": [],
   "source": [
    "pivoted_tw_tags.to_csv(\"web/tw_tags.csv\")"
   ]
  },
  {
   "cell_type": "code",
   "execution_count": null,
   "metadata": {
    "collapsed": true
   },
   "outputs": [],
   "source": []
  }
 ],
 "metadata": {
  "kernelspec": {
   "display_name": "Python 3",
   "language": "python",
   "name": "python3"
  },
  "language_info": {
   "codemirror_mode": {
    "name": "ipython",
    "version": 3
   },
   "file_extension": ".py",
   "mimetype": "text/x-python",
   "name": "python",
   "nbconvert_exporter": "python",
   "pygments_lexer": "ipython3",
   "version": "3.5.2"
  }
 },
 "nbformat": 4,
 "nbformat_minor": 2
}
